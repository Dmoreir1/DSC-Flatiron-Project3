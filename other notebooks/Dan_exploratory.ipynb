{
 "cells": [
  {
   "cell_type": "code",
<<<<<<< HEAD

   "outputs": [
    {
     "ename": "ModuleNotFoundError",
     "evalue": "No module named 'pandas_profiling'",
     "output_type": "error",
     "traceback": [
      "\u001b[0;31m---------------------------------------------------------------------------\u001b[0m",
      "\u001b[0;31mModuleNotFoundError\u001b[0m                       Traceback (most recent call last)",
      "\u001b[0;32m<ipython-input-11-bd4859a2885e>\u001b[0m in \u001b[0;36m<module>\u001b[0;34m\u001b[0m\n\u001b[1;32m     13\u001b[0m \u001b[0;32mfrom\u001b[0m \u001b[0msklearn\u001b[0m\u001b[0;34m.\u001b[0m\u001b[0mtree\u001b[0m \u001b[0;32mimport\u001b[0m \u001b[0mDecisionTreeClassifier\u001b[0m\u001b[0;34m\u001b[0m\u001b[0;34m\u001b[0m\u001b[0m\n\u001b[1;32m     14\u001b[0m \u001b[0;32mfrom\u001b[0m \u001b[0msklearn\u001b[0m\u001b[0;34m.\u001b[0m\u001b[0mneighbors\u001b[0m \u001b[0;32mimport\u001b[0m \u001b[0mKNeighborsClassifier\u001b[0m\u001b[0;34m,\u001b[0m \u001b[0mNearestNeighbors\u001b[0m\u001b[0;34m\u001b[0m\u001b[0;34m\u001b[0m\u001b[0m\n\u001b[0;32m---> 15\u001b[0;31m \u001b[0;32mimport\u001b[0m \u001b[0mpandas_profiling\u001b[0m \u001b[0;32mas\u001b[0m \u001b[0mpp\u001b[0m\u001b[0;34m\u001b[0m\u001b[0;34m\u001b[0m\u001b[0m\n\u001b[0m\u001b[1;32m     16\u001b[0m \u001b[0;32mfrom\u001b[0m \u001b[0mimblearn\u001b[0m\u001b[0;34m.\u001b[0m\u001b[0mpipeline\u001b[0m \u001b[0;32mimport\u001b[0m \u001b[0mPipeline\u001b[0m\u001b[0;34m\u001b[0m\u001b[0;34m\u001b[0m\u001b[0m\n\u001b[1;32m     17\u001b[0m \u001b[0;32mfrom\u001b[0m \u001b[0msklearn\u001b[0m\u001b[0;34m.\u001b[0m\u001b[0mdecomposition\u001b[0m \u001b[0;32mimport\u001b[0m \u001b[0mPCA\u001b[0m\u001b[0;34m\u001b[0m\u001b[0;34m\u001b[0m\u001b[0m\n",
      "\u001b[0;31mModuleNotFoundError\u001b[0m: No module named 'pandas_profiling'"
     ]
    }
   ],
=======
   "execution_count": 34,
   "metadata": {},
   "outputs": [],
>>>>>>> 7711e228076889bb4c0800153ffea524f4d8f040
   "source": [
    "import numpy as np\n",
    "import pandas as pd\n",
    "import matplotlib.pyplot as plt\n",
    "import seaborn as sns\n",
    "from collections import Counter\n",
    "from sklearn.preprocessing import StandardScaler, PolynomialFeatures, OneHotEncoder, normalize\n",
    "from sklearn.linear_model import Ridge, Lasso, ElasticNet, LinearRegression, LassoCV, RidgeCV, ElasticNetCV, LogisticRegression \n",
    "from imblearn.over_sampling import SMOTE\n",
    "from sklearn.model_selection import train_test_split, cross_validate, cross_val_score, ShuffleSplit, KFold, StratifiedKFold, GridSearchCV\n",
    "from sklearn.metrics import log_loss, mean_squared_error, make_scorer, accuracy_score, precision_score, recall_score, plot_confusion_matrix\n",
    "from sklearn.base import clone\n",
    "from scipy.special import logit, expit\n",
    "from sklearn import datasets\n",
    "from sklearn.tree import DecisionTreeClassifier\n",
    "from sklearn.neighbors import KNeighborsClassifier, NearestNeighbors\n",
    "from pandas_profiling import ProfileReport\n",
    "from imblearn.pipeline import Pipeline\n",
    "from sklearn.decomposition import PCA\n",
    "from sklearn.ensemble import RandomForestClassifier, BaggingClassifier, ExtraTreesClassifier, StackingRegressor\n",
    "# palette = sns.set_palette(sns.color_palette(\"colorblind\"))\n",
    "# sns.set(font_scale=3)\n",
    "sns.set_style('white')\n",
    "plt.rcParams['font.size'] = 9.0\n",
    "palette = sns.color_palette(\"crest\", as_cmap=True)"
   ]
  },
  {
   "cell_type": "code",
<<<<<<< HEAD

=======
   "execution_count": 42,
>>>>>>> 7711e228076889bb4c0800153ffea524f4d8f040
   "metadata": {},
   "outputs": [
    {
     "name": "stdout",
     "output_type": "stream",
     "text": [
      "<class 'pandas.core.frame.DataFrame'>\n",
      "RangeIndex: 3333 entries, 0 to 3332\n",
      "Data columns (total 23 columns):\n",
      " #   Column                  Non-Null Count  Dtype  \n",
      "---  ------                  --------------  -----  \n",
      " 0   state                   3333 non-null   object \n",
      " 1   account length          3333 non-null   int64  \n",
      " 2   area code               3333 non-null   int64  \n",
      " 3   phone number            3333 non-null   object \n",
      " 4   international plan      3333 non-null   object \n",
      " 5   voice mail plan         3333 non-null   object \n",
      " 6   number vmail messages   3333 non-null   int64  \n",
      " 7   total day minutes       3333 non-null   float64\n",
      " 8   total day calls         3333 non-null   int64  \n",
      " 9   total day charge        3333 non-null   float64\n",
      " 10  total eve minutes       3333 non-null   float64\n",
      " 11  total eve calls         3333 non-null   int64  \n",
      " 12  total eve charge        3333 non-null   float64\n",
      " 13  total night minutes     3333 non-null   float64\n",
      " 14  total night calls       3333 non-null   int64  \n",
      " 15  total night charge      3333 non-null   float64\n",
      " 16  total intl minutes      3333 non-null   float64\n",
      " 17  total intl calls        3333 non-null   int64  \n",
      " 18  total intl charge       3333 non-null   float64\n",
      " 19  customer service calls  3333 non-null   int64  \n",
      " 20  churn                   3333 non-null   bool   \n",
      " 21  Total Charges           3333 non-null   float64\n",
      " 22  Churn                   3333 non-null   object \n",
      "dtypes: bool(1), float64(9), int64(8), object(5)\n",
      "memory usage: 576.2+ KB\n"
     ]
    }
   ],
   "source": [
<<<<<<< HEAD

    "orig_data = pd.read_csv('data/churn.csv')\n",
    "df = orig_data.copy()"

    

=======
    "orig_data = pd.read_csv('data/bigml_59c28831336c6604c800002a.csv')\n",
    "df = orig_data.copy()\n",
    "df['Total Charges'] = df['total day charge'] + df['total eve charge'] + df['total intl charge']\n",
    "df['Churn'] = np.where(df['churn']== True, 'Churn', 'Retained')\n",
    "df.head()\n",
    "df.info()\n",
    "# df.head()\n",
    "# print(df['Total Charges'].sum())"
>>>>>>> 7711e228076889bb4c0800153ffea524f4d8f040
   ]
  },
  {
   "cell_type": "code",
<<<<<<< HEAD

   "execution_count": 13,

   "execution_count": 4,
=======
   "execution_count": 24,
   "metadata": {},
   "outputs": [
    {
     "data": {
      "text/html": [
       "<div>\n",
       "<style scoped>\n",
       "    .dataframe tbody tr th:only-of-type {\n",
       "        vertical-align: middle;\n",
       "    }\n",
       "\n",
       "    .dataframe tbody tr th {\n",
       "        vertical-align: top;\n",
       "    }\n",
       "\n",
       "    .dataframe thead th {\n",
       "        text-align: right;\n",
       "    }\n",
       "</style>\n",
       "<table border=\"1\" class=\"dataframe\">\n",
       "  <thead>\n",
       "    <tr style=\"text-align: right;\">\n",
       "      <th></th>\n",
       "      <th>state</th>\n",
       "      <th>account length</th>\n",
       "      <th>area code</th>\n",
       "      <th>phone number</th>\n",
       "      <th>international plan</th>\n",
       "      <th>voice mail plan</th>\n",
       "      <th>number vmail messages</th>\n",
       "      <th>total day minutes</th>\n",
       "      <th>total day calls</th>\n",
       "      <th>total day charge</th>\n",
       "      <th>...</th>\n",
       "      <th>total night minutes</th>\n",
       "      <th>total night calls</th>\n",
       "      <th>total night charge</th>\n",
       "      <th>total intl minutes</th>\n",
       "      <th>total intl calls</th>\n",
       "      <th>total intl charge</th>\n",
       "      <th>customer service calls</th>\n",
       "      <th>churn</th>\n",
       "      <th>Total Charges</th>\n",
       "      <th>Churn</th>\n",
       "    </tr>\n",
       "  </thead>\n",
       "  <tbody>\n",
       "    <tr>\n",
       "      <th>0</th>\n",
       "      <td>KS</td>\n",
       "      <td>128</td>\n",
       "      <td>415</td>\n",
       "      <td>382-4657</td>\n",
       "      <td>no</td>\n",
       "      <td>yes</td>\n",
       "      <td>25</td>\n",
       "      <td>265.1</td>\n",
       "      <td>110</td>\n",
       "      <td>45.07</td>\n",
       "      <td>...</td>\n",
       "      <td>244.7</td>\n",
       "      <td>91</td>\n",
       "      <td>11.01</td>\n",
       "      <td>10.0</td>\n",
       "      <td>3</td>\n",
       "      <td>2.70</td>\n",
       "      <td>1</td>\n",
       "      <td>False</td>\n",
       "      <td>64.55</td>\n",
       "      <td>Retained</td>\n",
       "    </tr>\n",
       "    <tr>\n",
       "      <th>1</th>\n",
       "      <td>OH</td>\n",
       "      <td>107</td>\n",
       "      <td>415</td>\n",
       "      <td>371-7191</td>\n",
       "      <td>no</td>\n",
       "      <td>yes</td>\n",
       "      <td>26</td>\n",
       "      <td>161.6</td>\n",
       "      <td>123</td>\n",
       "      <td>27.47</td>\n",
       "      <td>...</td>\n",
       "      <td>254.4</td>\n",
       "      <td>103</td>\n",
       "      <td>11.45</td>\n",
       "      <td>13.7</td>\n",
       "      <td>3</td>\n",
       "      <td>3.70</td>\n",
       "      <td>1</td>\n",
       "      <td>False</td>\n",
       "      <td>47.79</td>\n",
       "      <td>Retained</td>\n",
       "    </tr>\n",
       "    <tr>\n",
       "      <th>2</th>\n",
       "      <td>NJ</td>\n",
       "      <td>137</td>\n",
       "      <td>415</td>\n",
       "      <td>358-1921</td>\n",
       "      <td>no</td>\n",
       "      <td>no</td>\n",
       "      <td>0</td>\n",
       "      <td>243.4</td>\n",
       "      <td>114</td>\n",
       "      <td>41.38</td>\n",
       "      <td>...</td>\n",
       "      <td>162.6</td>\n",
       "      <td>104</td>\n",
       "      <td>7.32</td>\n",
       "      <td>12.2</td>\n",
       "      <td>5</td>\n",
       "      <td>3.29</td>\n",
       "      <td>0</td>\n",
       "      <td>False</td>\n",
       "      <td>54.97</td>\n",
       "      <td>Retained</td>\n",
       "    </tr>\n",
       "    <tr>\n",
       "      <th>3</th>\n",
       "      <td>OH</td>\n",
       "      <td>84</td>\n",
       "      <td>408</td>\n",
       "      <td>375-9999</td>\n",
       "      <td>yes</td>\n",
       "      <td>no</td>\n",
       "      <td>0</td>\n",
       "      <td>299.4</td>\n",
       "      <td>71</td>\n",
       "      <td>50.90</td>\n",
       "      <td>...</td>\n",
       "      <td>196.9</td>\n",
       "      <td>89</td>\n",
       "      <td>8.86</td>\n",
       "      <td>6.6</td>\n",
       "      <td>7</td>\n",
       "      <td>1.78</td>\n",
       "      <td>2</td>\n",
       "      <td>False</td>\n",
       "      <td>57.94</td>\n",
       "      <td>Retained</td>\n",
       "    </tr>\n",
       "    <tr>\n",
       "      <th>4</th>\n",
       "      <td>OK</td>\n",
       "      <td>75</td>\n",
       "      <td>415</td>\n",
       "      <td>330-6626</td>\n",
       "      <td>yes</td>\n",
       "      <td>no</td>\n",
       "      <td>0</td>\n",
       "      <td>166.7</td>\n",
       "      <td>113</td>\n",
       "      <td>28.34</td>\n",
       "      <td>...</td>\n",
       "      <td>186.9</td>\n",
       "      <td>121</td>\n",
       "      <td>8.41</td>\n",
       "      <td>10.1</td>\n",
       "      <td>3</td>\n",
       "      <td>2.73</td>\n",
       "      <td>3</td>\n",
       "      <td>False</td>\n",
       "      <td>43.68</td>\n",
       "      <td>Retained</td>\n",
       "    </tr>\n",
       "  </tbody>\n",
       "</table>\n",
       "<p>5 rows × 23 columns</p>\n",
       "</div>"
      ],
      "text/plain": [
       "  state  account length  area code phone number international plan  \\\n",
       "0    KS             128        415     382-4657                 no   \n",
       "1    OH             107        415     371-7191                 no   \n",
       "2    NJ             137        415     358-1921                 no   \n",
       "3    OH              84        408     375-9999                yes   \n",
       "4    OK              75        415     330-6626                yes   \n",
       "\n",
       "  voice mail plan  number vmail messages  total day minutes  total day calls  \\\n",
       "0             yes                     25              265.1              110   \n",
       "1             yes                     26              161.6              123   \n",
       "2              no                      0              243.4              114   \n",
       "3              no                      0              299.4               71   \n",
       "4              no                      0              166.7              113   \n",
       "\n",
       "   total day charge  ...  total night minutes  total night calls  \\\n",
       "0             45.07  ...                244.7                 91   \n",
       "1             27.47  ...                254.4                103   \n",
       "2             41.38  ...                162.6                104   \n",
       "3             50.90  ...                196.9                 89   \n",
       "4             28.34  ...                186.9                121   \n",
       "\n",
       "   total night charge  total intl minutes  total intl calls  \\\n",
       "0               11.01                10.0                 3   \n",
       "1               11.45                13.7                 3   \n",
       "2                7.32                12.2                 5   \n",
       "3                8.86                 6.6                 7   \n",
       "4                8.41                10.1                 3   \n",
       "\n",
       "   total intl charge  customer service calls  churn  Total Charges     Churn  \n",
       "0               2.70                       1  False          64.55  Retained  \n",
       "1               3.70                       1  False          47.79  Retained  \n",
       "2               3.29                       0  False          54.97  Retained  \n",
       "3               1.78                       2  False          57.94  Retained  \n",
       "4               2.73                       3  False          43.68  Retained  \n",
       "\n",
       "[5 rows x 23 columns]"
      ]
     },
     "execution_count": 24,
     "metadata": {},
     "output_type": "execute_result"
    }
   ],
   "source": [
    "df.head()"
   ]
  },
  {
   "cell_type": "code",
   "execution_count": 30,
>>>>>>> 7711e228076889bb4c0800153ffea524f4d8f040
   "metadata": {},
   "outputs": [
    {
     "name": "stdout",
     "output_type": "stream",
     "text": [
      "50.480000000000004\n",
      "50.4104290429043\n",
      "27106.17\n",
      "57.66\n",
      "56.12043478260869\n"
     ]
    }
   ],
   "source": [
    "df_churn = df[df['churn'] == 1]\n",
    "print(df['Total Charges'].median())\n",
    "print(df['Total Charges'].mean())\n",
    "df_churn.head()\n",
    "print(df_churn['Total Charges'].sum())\n",
    "print(df_churn['Total Charges'].median())\n",
    "print(df_churn['Total Charges'].mean())"
   ]
  },
  {
   "cell_type": "code",
<<<<<<< HEAD
   "execution_count": 5,

=======
   "execution_count": null,
>>>>>>> 7711e228076889bb4c0800153ffea524f4d8f040
   "metadata": {},
   "outputs": [],
   "source": []
  },
  {
   "cell_type": "code",
<<<<<<< HEAD

   "execution_count": 14,
   "metadata": {},
   "outputs": [
    {
     "ename": "NameError",
     "evalue": "name 'ProfileReport' is not defined",
     "output_type": "error",
     "traceback": [
      "\u001b[0;31m---------------------------------------------------------------------------\u001b[0m",
      "\u001b[0;31mNameError\u001b[0m                                 Traceback (most recent call last)",
      "\u001b[0;32m<ipython-input-14-190aea4d5d2b>\u001b[0m in \u001b[0;36m<module>\u001b[0;34m\u001b[0m\n\u001b[0;32m----> 1\u001b[0;31m \u001b[0mprofile\u001b[0m \u001b[0;34m=\u001b[0m \u001b[0mProfileReport\u001b[0m\u001b[0;34m(\u001b[0m\u001b[0mdf\u001b[0m\u001b[0;34m,\u001b[0m \u001b[0mtitle\u001b[0m\u001b[0;34m=\u001b[0m\u001b[0;34m\"Churn Profiling Report\"\u001b[0m\u001b[0;34m)\u001b[0m\u001b[0;34m\u001b[0m\u001b[0;34m\u001b[0m\u001b[0m\n\u001b[0m\u001b[1;32m      2\u001b[0m \u001b[0mprofile\u001b[0m\u001b[0;34m\u001b[0m\u001b[0;34m\u001b[0m\u001b[0m\n",
      "\u001b[0;31mNameError\u001b[0m: name 'ProfileReport' is not defined"
     ]

   
    
=======
   "execution_count": 5,
   "metadata": {},
   "outputs": [
>>>>>>> 7711e228076889bb4c0800153ffea524f4d8f040
    {
     "data": {
      "image/png": "iVBORw0KGgoAAAANSUhEUgAAAkYAAAJACAYAAABohKlxAAAAOXRFWHRTb2Z0d2FyZQBNYXRwbG90bGliIHZlcnNpb24zLjMuMSwgaHR0cHM6Ly9tYXRwbG90bGliLm9yZy/d3fzzAAAACXBIWXMAAAsTAAALEwEAmpwYAABOxklEQVR4nO3deVRV9f7/8dcBEZBBQxEFUnFKAwd+Jpb3OqSIOV3MHHOeLW1wiNRMzW5pDjlnlpbhUEaaZnRL0zRv5lCWIzigJo6gIKMCwvn94fF8I8CON845Js/HWq2Fn/0+e7+PrvLVZ3/2ZxuMRqNRAAAAkIO9GwAAALhXEIwAAABMCEYAAAAmBCMAAAATghEAAIAJwQgAAMCEYATgL1m/fr0eeughrV+//n/6/NWrV5WZmVnMXRWv9PR0JSUlmX+9cOFCPfTQQzp37pwdu7p3+gDuJwQjAHazY8cOPfHEE/lCx73m8OHDateunU6cOGEea9OmjWbOnCkvLy87dgbAGkrZuwEAJdfBgweVmppq7zbu6Pjx40pISMg3VqdOHdWpU8dOHQGwJmaMAAAATAhGAIpdq1atNHnyZG3cuFEdOnRQvXr1FBYWptWrV5trxo8fr0WLFkmSWrdurb59+5qPnTx5UiNHjtQjjzyiBg0aqGfPntq5c2e+a/Tt21eDBw/W3LlzFRwcrMcee0zHjh0zj3///ffq0qWL6tWrp5YtW2rhwoXKy8vLd46vv/5affr0UaNGjRQUFKRWrVpp5syZys7OlnRrDc+ECRMkSf369VOrVq3M439c25OcnKypU6eqWbNmCgoKUtu2bfXee+8pNzfXXLNw4ULVq1dPZ86c0fDhwxUcHKzGjRvr5ZdfVnJycr7ejhw5oueee05NmzZVYGCgHnvsMY0dO1aXLl36n/9cAPw5bqUBsIqdO3eag0eFChW0du1aTZs2Tf7+/mrRooV69Oih9PR0bdmyRRMmTFCtWrUkSceOHdPTTz+tChUqaPjw4XJyctKXX36pYcOGac6cOWrfvr35Gvv379dvv/2ml156SefOnVPNmjUl3br99eKLL6pHjx7q0aOHvvzySy1atEheXl7q3bu3JCkqKkqTJk1Sq1atNG7cOOXk5GjLli1avny5ypQpo1GjRqlNmzZKTEzU2rVrNWLECNWrV6/Q75qSkqKePXvq/Pnz6tmzpwICAvTDDz9ozpw5Onr0qObNm2euzcvLU79+/fTII4/o5Zdf1qFDh/TZZ5/pxo0bmj9/fr7fg6pVq2rYsGFydXXV/v37tXHjRiUkJGjlypXW+CMDIElGAPgL1q1bZ6xdu7Zx3bp15rHHH3/c+NBDDxljYmLMYwkJCcaHHnrIOGbMGPPYggULjLVr1zbGx8ebx/r06WMMDQ01ZmRkmMdycnKMTz/9tLFp06bGrKwsc13t2rWNu3fvztfP7fGtW7eax27cuGFs3LixsUePHuaxJ554wtijRw9jXl5evus0b97c2LFjxwLf7/fX+WPfs2bNMtauXdu4ZcuWfL1MnTrVWLt2beP27dvzfW769On56gYPHmx8+OGHjZmZmUaj0WicPHmysUGDBsbk5OR8daNHjzbWrl3bPF7Y7x+Av4ZbaQCsIiAgIN8CZW9vb1WoUEFXrlwp8jPJycnau3evWrRooRs3bigpKUlJSUlKTU1VmzZtdOXKFR06dMhc7+LiosaNGxc4j6urq1q2bGn+tbOzswICAvJd+4svvtB7770ng8FgHrt69ao8PT3vevuAbdu2qUaNGgoNDc03/uyzz0qStm7dmm+8Xbt2+X5dt25d3bx5U9euXZMkTZ06Vdu2bVO5cuXMNenp6XJ2dpake357A+DvjFtpAKyisEfZS5cuXWCdz+/Fx8dLklauXFnk7aKLFy+afy5XrpwcHAr+/11h43+8tpOTk/bt26cvv/xSp06d0tmzZ3X16lVJkp+f3x2+WUHnzp1Ts2bNCox7e3vL09NT58+fzzf+x9+b0qVLS5J5PZLBYFBycrKWLl2qY8eO6ezZs7pw4YKMRqMk3fH3EMBfQzACYBWFBZY/czsY9O7du8Dsy2231xFJkqOj4/987Tlz5ui9997Tww8/rIYNGyo8PFzBwcF6/fXX84UvS9wOLIXJy8uTk5NTvrHfz1IVZvv27Xr22WdVsWJFPfroo2revLmCgoL03//+V0uXLr2r3gDcHYIRgHvG7ZkaR0dHNW3aNN+xkydP6ty5c3J1df3L1zl//rzee+89hYeHa+bMmfmO3elWX1H8/Px06tSpAuOJiYlKT09X5cqV7+p8r7/+uqpWrap169apTJky5vFNmzbddW8A7g5rjADYze2ZndszLhUrVlRQUJA+//xzXb582VyXk5OjiRMn6vnnn9fNmzf/8nVTUlIk5Z99km7txH3mzJl817jd451uXz3++OM6deqUvv3223zj7733niTlW+9kiWvXrsnX1zdfKLp48aI2b94sSfm2AABQvJgxAmA3t9faLFu2TM2bN1fr1q01adIk9e/fX0899ZR69eqlcuXKKTo6WgcOHNDYsWP1wAMP/OXr1qxZU76+vnr33XeVlZWlSpUq6eDBg/r888/l7OysjIyMAj1+/PHHunLlijp16lTgfMOHD9fmzZv14osvqlevXqpWrZp2796tzZs3KywsTC1atLir/po3b66vvvpKkydPVr169XTu3Dl9+umnun79uiTl6w9A8SIYAbCbDh06aPPmzVq/fr327t2r1q1bKzg4WB9//LEWLlyoDz/8UDdv3lRAQIBmzJihJ598sliuW7p0ab333nuaMWOGIiMjZTQaVaVKFU2cOFE3b97UG2+8ocOHDysoKEiPPfaY2rVrp++++067d+9WWFhYgfOVK1dOa9eu1bx58/TVV18pNTVVDz74oCIiIjRgwIC77m/q1KkqU6aMtm3bpo0bN6pSpUrq3Lmz2rRpo169emn37t16+OGHi+F3AsAfGYx3WjUIAABQgrDGCAAAwIRgBAAAYEIwAgAAMCEYAQAAmBCMAAAATHhc3wJNmjS563cnAQCAe9P58+e1Z8+eQo8RjCzg5+en9evX27sNAABQDLp06VLkMW6lAQAAmBCMAAAATLiVBgAAlJOTo3PnzunGjRv2bqVYubi4yN/fX05OThbVE4wAAIDOnTsnDw8PVatWTQaDwd7tFAuj0airV6/q3LlzCggIsOgz3EoDAAC6ceOGypcvf9+EIkkyGAwqX778Xc2CEYwAAIAk3Veh6La7/U4EIwAAYBXh4eH2buGuEYwAAABMWHwNAACKRXp6usaNG6ekpCRVqFBB2dnZGjt2rM6ePat27dpp0KBBCg8P18aNGyXJ/HP//v1VtmxZ+fv76+jRo6pVq5YOHDigevXq6dVXX7Xpd2DGCAAAFIv169erWbNm+vTTT/X444/r1KlTevHFF7VmzRpFRUUV+bm8vDwNGjRIERERys3NVdu2bbV27Vrt2rVL169ft+E3IBgBAIBicvr0aQUFBUmSunXrpjp16ujBBx+Uk5OTSpcuXaDeaDSaf65WrZr551q1aslgMKhChQrKycmxet+/RzACAADF4sEHH1RMTIwk6cMPP1ReXl6Bmry8PKWnp+vq1atKSkoyjzs4/F8ksefTcawxAgAAxaJ79+6KiIhQdHS0ypcvX2gw6tWrl55++mnVrFlT/v7+dujyzgzG389joVBdunTR+vXr7d0GAABWExMTo7p169q7Dav443e709/r3EoDAAAwIRgBAACY2CUY/fjjj+rVq5eCg4PVrFkzvfHGG8rIyMhXEx8fr1GjRikkJEQhISGKiIjIt0jLWnUAAKDksvni6927d2vQoEEKDAzUuHHjdPHiRUVGRurw4cNavXq1HBwclJycrP79+ys7O1tDhgxRbm6uli9frmPHjikqKsr8yF9x1wEAgJLN5sFo5syZqly5slatWiUXFxdJUuXKlTVt2jTt3LlTLVq00IoVK3Tp0iVt2rRJNWrUkCQ1aNBAAwcO1IYNG9S9e3dJKvY6AABQstn0VlpWVpYeeOABde/e3RyKJCkkJESSdOzYMUlSdHS0QkJCzCFGkpo2baqAgABFR0ebx4q7DgAAlGw2DUbOzs5avny5RowYkW/89mZQvr6+SklJUXx8vAIDAwt8PjAwUIcPH5akYq8DAAD/50ZOrk3Os2fPHjVv3lx9+/Y1//PHdceS1LdvX6WmphZLT3di1w0ez58/rz179uitt95S7dq11aZNG/3222+SJB8fnwL13t7eSk9PV1pami5fvlysdR4eHsX51e4fOTckJ5c/r8P9hT93oMRzcXJUtfF//a7KmRkd/rSmbdu2euWVV/7ytYqD3YLRtWvX1KpVK0mSq6urJk2aJGdnZ3NKdHV1LfAZZ2dnSVJmZmax1xGMiuDkIk0ta+8uYGtTU+zdAYASbP369dqwYYMyMzPVokULPffcc+ZjH374ob755hvl5ubqpZdeUkhIiBYtWqQffvhBjo6OevXVV/XQQw/9z9e2WzAyGAyaO3eusrOztXLlSg0cOFBvv/22vL29//SzDg4OhW4z/lfqAACAfXzzzTeKjY2VJLVq1Up5eXlasWKFcnNz1alTp3zB6JtvvtGcOXNUqlQpHTt2TLGxsTp+/Lg+/vhjXbx4Ua+++qqWLVv2P/dit2BUtmxZtW/fXpL0xBNPqGPHjpoxY4beffddSbcWav/R7TE3Nze5ubkVax0AALCPP95Ki4yM1NixY+Xh4aHs7Ox8ta+++qpmz56ta9euqX///jp16pSOHj2qvn37Sir87/u7cU+8RNbFxUUtW7bUypUrVbFiRUlSYmJigbqEhAR5enqqTJky8vX1LdY6AABgf6mpqfrkk0/01Vdf6fLly9qyZUu+41988YVmzZqljIwMDR48WFOnTlVISIjefPNNpaSkaN26dX/p+jYNRnFxcRo6dKgGDx6s3r175zuWkZEhg8Gg0qVLy9/fX0eOHCnw+aNHjyooKEiS5OnpWax1AADA/tzd3VWlShU99dRTcnd3V/ny5fM9pebv768uXbrI3d1d/fv3V1BQkLy9vdW7d29lZmbqhRde+EvXt2kwqlq1qtLS0vTJJ5+oW7du5h2nz58/r82bN6tx48Zyd3dXWFiYIiMjFRcXZ957aNeuXTp9+rQGDx5sPl9x1wEAgFtu5ORa9ESZJedxcXIs8niTJk3UpEkT868dHBzMy2p+b+XKlZJkfqT/90aPHv2X+7zNYDQajcV2Ngts3LhRERERatiwof71r38pOTlZq1evVk5OjtasWaPatWsrKSlJHTt2lKOjowYNGqSsrCwtW7ZMVapU0SeffGIOVMVdV5QuXbpo/fr1Vv+9uWfxVFrJw1NpQIkTExOjunXr2rsNq/jjd7vT3+s2X2MUHh4uJycnLVu2TNOnT1eZMmX06KOPavTo0QoICJAkeXl5adWqVZo+fboWLFggFxcXhYaGKiIiIl+IKe46AABQstll8XX79u3NT6QVpXr16nr//ff/9FzFXQcAAEouNvABAAAwIRgBAACY3BP7GAEAgJLnjTfeUGxsrE6dOiUfHx+5ubnpueeeU0hIiN16IhgBAICCiutl0nc4z+3drsePH6/+/fvfE0/FEYwAAEBBxfUS8bvY/mPPnj2aM2eOHBwc9NRTT+n48eN65ZVXtGfPHn377bd65ZVXivWFsYVhjREAALhneHh46JNPPlGVKlUKHPv9C2NnzZqlWbNmFfv1mTECAAD3jNt7Gv7e7b2oi/uFsYUhGAEAgHuGwWCQJDk7O+vKlSuSpBMnTkiSqlSpUqwvjC0MwQgAANxzgoKClJqaqt69e6tGjRpydnYu9hfGFoZgBAAACsq5UTzvTbTg6bYZM2aYf779QtlSpUpp+fLlBWqL84WxhWHxNQAAKKg4HtUvzvPYCMEIAADAhGAEAABgQjACAACS/u+x+PvJ3X4nghEAAJCLi4uuXr16X4Ujo9Goq1evysXF8nVOPJUGAADk7++vc+fOKTEx0d6tFCsXFxf5+/tbXE8wAgAAcnJyKnTX6ZKGW2kAAAAmBCMAAAATghEAAIAJwQgAAMCEYAQAAGBCMAIAADAhGAEAAJgQjAAAAEwIRgAAACYEIwAAABOCEQAAgAnBCAAAwIRgBAAAYEIwAgAAMCEYAQAAmBCMAAAATAhGAAAAJgQjAAAAE4IRAACACcEIAADAhGAEAABgQjACAAAwIRgBAACYEIwAAABMCEYAAAAmBCMAAAATghEAAIBJKXs3gHubMeeGDFNT7N0GbMyYc0MGJxd7twEANkcwwh0ZnFxUbXy0vduAjZ2Z0cHeLQCAXXArDQAAwIRgBAAAYEIwAgAAMCEYAQAAmBCMAAAATAhGAAAAJgQjAAAAE4IRAACACcEIAADAhGAEAABgQjACAAAwIRgBAACYEIwAAABMCEYAAAAmBCMAAAATghEAAIBJKXtcdOfOnVqyZImOHDkiBwcHNWjQQC+++KIaNmxorunatasOHTpU4LNt27bVggULzL+Oj4/XW2+9pb1790qSWrZsqfHjx8vLyyvf5yytAwAAJZfNg9HevXs1dOhQ1apVS6NHj9bNmze1Zs0a9enTR2vWrFH9+vVlNBoVFxen0NBQhYWF5fu8n5+f+efk5GT1799f2dnZGjJkiHJzc7V8+XIdO3ZMUVFRKl269F3VAQCAks3mwejNN99U5cqV9emnn8rV1VWS1LlzZ7Vv315z587Vhx9+qHPnzikzM1OtW7dWeHh4kedasWKFLl26pE2bNqlGjRqSpAYNGmjgwIHasGGDunfvfld1AACgZLPpGqOUlBTFxsbqiSeeMIciSapQoYIaN26sX375RZJ08uRJSTKHmKJER0crJCQkX13Tpk0VEBCg6Ojou64DAAAlm02Dkbu7u77++msNGDCgwLHk5GQ5OjpKkk6cOCHp/4JRZmZmgfqUlBTFx8crMDCwwLHAwEAdPnz4ruoAAABsGowcHR1VrVo1+fj45BuPjY3V/v37FRwcLOlWMHJzc9P06dMVHBys4OBghYaG5pvduXz5siQVOJckeXt7Kz09XWlpaRbXAQAA2OWptN/LyMjQyy+/LEkaNmyYpFu30jIyMpSWlqaZM2cqNTVVkZGRGjNmjHJyctS5c2dlZGRIUr5bcrc5OztLujXTZGmdh4dH8X85AADwt2LXYHT9+nU988wzio2N1fDhwxUSEiJJ6t69u/Ly8tS7d29zbYcOHdSxY0fNmjVLnTp1Ul5e3p+e38HBweI6AAAAuwWj1NRUDR8+XPv379dTTz2l0aNHm4/16tWrQL2Li4vCw8O1aNEinTx5Um5ubpKkrKysArW3x9zc3CyuAwAAsMtUydWrV9WvXz/t379fPXr00BtvvCGDwfCnn7u9GWNmZqZ8fX0lSYmJiQXqEhIS5OnpqTJlylhcBwAAYPNglJ6ersGDBysmJkYDBgzQtGnT8oWiy5cvq0OHDlq0aFGBz54+fVqS5O/vL09PT/n7++vIkSMF6o4ePaqgoCBJsrgOAADA5sFo2rRpiomJUb9+/TRhwoQCx318fJSWlqaoqCilp6ebxy9evKj169erSZMm8vb2liSFhYXpxx9/VFxcnLlu165dOn36tNq3b28es7QOAACUbDZdYxQXF6eNGzfKw8NDdevW1caNGwvUhIeHa/LkyRo5cqR69uypbt26KSMjQ6tXr1apUqU0ZcoUc+3QoUO1ceNGDRgwQIMGDVJWVpaWLVumwMDAfDtmW1oHAABKNpsGo9svcE1LSyt0tki6FYxCQ0O1ePFiLV26VLNnz5aLi4tCQkI0ZsyYfLtXe3l5adWqVZo+fboWLFggFxcXhYaGKiIiIt/7zyytAwAAJZvBaDQa7d3Eva5Lly5av369vduwm2rjeW1KSXNmRgd7twAAVnOnv9fZwAcAAMCEYAQAAGBCMAIAADAhGAEAAJgQjAAAAEwIRgAAACYEIwAAABOCEQAAgAnBCAAAwIRgBAAAYEIwAgAAMCEYAQAAmPzPwejmzZtKTk4uzl4AAADsyqJglJ2drblz52rjxo2SpP3796tp06Zq2rSp+vbtq6SkJKs2CQAAYAsWBaM5c+ZoxYoVunnzpiTp5Zdflo+Pj6ZPn67ExETNnDnTqk0CAADYQilLir7++mtNmDBBTz31lA4ePKj4+Hi9/fbbat++vVxcXDR16lQrtwkAAGB9Fs0YJScnq2bNmpKk7du3q1SpUmrevLkkqWzZssrKyrJehwAAADZiUTCqUqWK9u/fr5ycHP3nP/9Ro0aN5O7uLkn66quvFBAQYNUmAQAAbMGiYDR48GDNmzdPjz32mM6cOaOBAwdKknr06KF169Zp6NChVm0SAADAFixaY/Tkk0+qWrVq2r9/vxo2bKhGjRpJkpo1a6Zx48apcePGVm0SAADAFiwKRpIUHBys4ODgfGOjRo0q9oYAAADsxeJgtHPnTu3YsUPXr19XXl5evmMGg0FvvvlmsTcHAABgSxYFo3fffVfz5s1TuXLlVLFiRTk45F+aZDAYrNIcAACALVkUjNasWaOePXtqypQphCAAAHDfsuiptNTUVLVr145QBAAA7msWBaNHHnlE+/bts3YvAAAAdmXRrbTevXtr4sSJSk5OVv369eXq6lqgJiwsrNibAwAAsCWLgtEzzzwjSVq9erVWr15d4LjBYFBMTEzxdgYAAGBjFgWjrVu3WrsPAAAAu7MoGPn5+d3xeE5OTrE0AwAAYE8WBaOcnBx9+umn2rt3r7Kzs2U0Gs3Hrl+/rpiYGO3du9dqTQIAANiCRcFo1qxZioyM1EMPPaSrV6/K2dlZXl5eOn78uHJycvTss89au08AAACrs+hx/f/85z8aOnSoNm7cqL59++rhhx9WVFSUNm/erCpVqujmzZvW7hMAAMDqLApGycnJ+uc//ylJqlOnjg4cOCBJ8vHx0YgRI/Sf//zHeh0CAADYiEXB6IEHHlB6erokqVq1akpMTFRycrIkydfXV5cvX7ZehwAAADZiUTD65z//qUWLFunEiROqUqWKypcvr9WrVys3N1dff/21vLy8rN0nAACA1VkUjMaMGaPc3Fy9/vrrMhgMeuGFF7R48WLVr19fH3/8sfr372/tPgEAAKzOoqfSvL29tXHjRvMts27duqlq1ao6cOCA6tWrp0cffdSqTQIAANiCRcFIuvXaj0qVKpl/HRISopCQEKs0BQAAYA9FBqMRI0ZYfBKDwaAlS5YUS0MAAAD2UmQwysjIsGUfAAAAdldkMFq5cqUt+wAAALC7O64xysrK0tatW3XhwgU9+OCDatGihVxcXGzVGwAAgE0VGYzi4+PVv39/Xbx40fzS2MqVK2v+/PmqX7++zRoEAACwlSL3MXr77beVlZWlmTNnKjo6WosXL1bp0qU1ZcoUW/YHAABgM0XOGO3du1cvvfSSOnXqJEmqUaOG3N3dNWDAACUlJbHbNQAAuO8UOWN07do1Va1aNd9YYGCgjEajEhMTrd4YAACArRUZjHJzc+Xo6JhvzNXVVZJ08+ZN63YFAABgBxa9Kw0AAKAkuOPj+qdOnco3a5Sbm2se/6PAwMBibg0AAMC27hiMJkyYUOj4Sy+9JIPBIEkyGo0yGAyKiYkp/u4AAABsqMhgFBkZacs+AAAA7K7IYBQSEmLLPgAAAOyOxdcAAAAmBCMAAAATghEAAIAJwQgAAMCEYAQAAGBS5FNpt18eawmDwaAvvviiWBoCAACwlyKDUWBgoHkTRwAAgJKgyGA0Y8YMW/YBAABgd3d8Jcjv3bx5U2fOnFF2draMRqOkW68DuXHjhn755RcNHTrUak0CAADYgkXB6KefftLo0aN15cqVQo+7uroSjAAAwN+eRU+lzZ49W56enlq4cKHatGmjNm3a6N1331Xv3r1lMBj0/vvv39VFd+7cqaeffloNGjRQcHCwBgwYoF9//TVfTXx8vEaNGqWQkBCFhIQoIiJCSUlJBc5V3HUAAKDksmjGKDY2VtOnT1doaKjS09O1cuVKtWjRQi1atFBeXp4WL16sDz74wKIL7t27V0OHDlWtWrU0evRo3bx5U2vWrFGfPn20Zs0a1a9fX8nJyerfv7+ys7M1ZMgQ5ebmavny5Tp27JiioqJUunRpSSr2OgAAULJZvMaoQoUKkqSAgACdPHlSeXl5cnBwUJs2bTR27FiLL/jmm2+qcuXK+vTTT+Xq6ipJ6ty5s9q3b6+5c+fqww8/1IoVK3Tp0iVt2rRJNWrUkCQ1aNBAAwcO1IYNG9S9e3dJKvY6AABQsll0K61mzZrau3evJKl69erKzs7WkSNHJEmpqanKysqy6GIpKSmKjY3VE088YQ5F0q3Q1bhxY/3yyy+SpOjoaIWEhJhDjCQ1bdpUAQEBio6ONo8Vdx0AACjZLJox6tevn15++WVdu3ZNr7zyipo1a6aXXnpJHTp00Oeff67g4GCLLubu7q6vv/46Xyi6LTk5WY6OjkpJSVF8fLzatm1boCYwMFDbt2+XpGKvAwAAsGjG6F//+pfmzp0rb29vSbduh1WsWFHLli2Tr6+vpkyZYtHFHB0dVa1aNfn4+OQbj42N1f79+xUcHKzLly9LUoEaSfL29lZ6errS0tKKvQ4AAMDiNUZPPPGE+ecKFSooMjKyWBrIyMjQyy+/LEkaNmyYMjIyJKnQWSVnZ2dJUmZmZrHXeXh4/NWvAgAA/uYsDkZ5eXmKjY1VZmameYPH32vcuPFdX/z69et65plnFBsbq+HDhyskJEQ///zzn37OwcFBeXl5xVoHAABgUTD65Zdf9OKLLyohIaHQUGQwGBQTE3NXF05NTdXw4cO1f/9+PfXUUxo9erQkyc3NTZIKXdB9e8zNza3Y6wAAACwKRm+88YY8PT01ZcoUVapU6S/PsFy9elWDBw9WTEyMevTooddee838wlpfX19JUmJiYoHPJSQkyNPTU2XKlCn2OgAAAIuC0fHjx7Vw4UK1aNHiL18wPT3dHIoGDBigCRMm5Dvu6ekpf39/83YAv3f06FEFBQVZpQ4AAMCiqZ/KlSubFzH/VdOmTVNMTIz69etXIBTdFhYWph9//FFxcXHmsV27dun06dNq37691eoAAEDJZjAWtmjoD6Kjo7VgwQLNmTPnL82wxMXFqX379vLw8NDEiRPl6OhYoCY8PFxJSUnq2LGjHB0dNWjQIGVlZWnZsmWqUqWKPvnkE/MrPIq7rihdunTR+vXr/+fv/XdXbTybYJY0Z2Z0sHcLAGA1d/p73aJbaR988IGuXLmibt26ydHRsUCQMBgMFj1Ndnv37LS0tCJni8LDw+Xl5aVVq1Zp+vTpWrBggVxcXBQaGqqIiIh81y7uOgAAULJZFIwef/zxYrlYr1691KtXL4tqq1evrvfff9/mdQAAoOSyKBiNGjXK2n0AAADYncUbPCYmJuqDDz7Qvn37lJ6ernLlyqlRo0bq169foa/bAAAA+Lux6Km03377TZ07d9ann36qSpUqqUmTJipfvrw+/vhjhYeH67fffrN2nwAAAFZn0YzRW2+9pfLly+ujjz7SAw88YB5PSkrS4MGDNXv2bC1cuNBqTQIAANiCRTNGu3fv1qhRo/KFIunW014jRozQnj17rNIcAACALVkUjFxdXYt8DYiDg4Nu3rxZrE0BAADYg0XB6JFHHtE777yjlJSUfOPXrl3TO++8o5CQEKs0BwAAYEsWrTGKiIhQ165d1apVKzVp0kQVKlTQlStXtGfPHpUqVUqzZ8+2dp8AAABWZ9GMkZ+fnzZs2KBu3bopISFBu3fvVmJiorp166aNGzeqRo0a1u4TAADA6izex8jHx0fjx4+3Zi8AAAB2VWQw+ve//61BgwbJ19dX//73v//0RJMmTSrWxgAAAGytyGC0bds2de3aVb6+vtq2bdsdT2IwGAhGAADgb++OwaiwnwEAAO5XFi2+7tevn+Li4go9Fhsbq/Dw8GJtCgAAwB6KnDHaunWrcnNzJUl79+7Vtm3bCg1Hu3bt0tmzZ63XIQAAgI0UGYx2796tlStXSrq1hmjOnDlFnmTYsGHF3xkAAICNFRmMXnrpJQ0YMEBGo1GhoaFatGiR6tatm6/G0dFR7u7ucnd3t3qjAAAA1lZkMCpdurT8/Pwk3bqtVrFiRTk5OdmsMQAAAFuzaINHPz8/HT9+XPv27VNOTo6MRqMkyWg06vr16/r111/1/vvvW7VRAAAAa7MoGK1du1ZTp06V0WiUwWCQJHM4cnBwUNOmTa3XIQAAgI1Y9Lj+hx9+qJYtW2rPnj0aPHiwunbtql9//VULFiyQq6urOnbsaO0+AQAArM6iYHTu3Dk9/fTTKlu2rOrVq6d9+/bJxcVFYWFhevbZZxUZGWntPgEAAKzOomDk6uqqUqVu3XWrWrWq4uPjdePGDUlS/fr19dtvv1mvQwAAABuxKBgFBwcrKipKeXl5ql69ukqVKqXvv/9eknT8+HE5OztbtUkAAABbsCgYjRo1St99952GDh2q0qVLq3v37nr55ZfVt29fzZgxQ6GhodbuEwAAwOoseiqtfv36+uqrr3TixAlJ0oQJE1S2bFkdOHBAQ4cOZedrAABwX7AoGElS5cqVVblyZUm3HtEfNWqU1ZoCAACwB4uDUVxcnHbu3KnMzEzl5eXlO2YwGDRy5Mhibw4AAMCWLApGUVFRmjx5siSpTJkycnDIvzSJYAQAAO4HFgWjpUuXqk2bNnrjjTfk4eFh7Z4AAADswqKn0hISEtS7d29CEQAAuK9ZFIwCAwMVGxtr7V4AAADsyqJbaWPHjtW4ceOUm5ur+vXry9XVtUBNYGBgsTcHAABgSxYFoz59+kiSZs6cKYPBkO+Y0WiUwWBQTExM8XcHAABgQxYFI14SCwAASgKLgtHatWvVo0cPhYSEWLsfAAAAu7Fo8fX27dsLbOoIAABwv7EoGLVs2VJr1qxRSkqKtfsBAACwG4tupd24cUM7duzQli1b5OXlJS8vr3zHDQaDvvjiC6s0CAAAYCsWBSNPT0916tTJ2r0AAADYlUXBaPr06dbuAwAAwO4sCkaSdPPmTUVHR2v37t1KTEzUpEmT9PPPPyswMFB16tSxZo8AAAA2YdHi6+TkZHXv3l0TJ07UkSNH9MMPPygjI0NbtmxRr169dODAAWv3CQAAYHUWBaPp06crPT1dmzdv1vr162U0GiVJCxYsUP369fX2229btUkAAABbsCgYfffdd3rxxRfl5+eX75UgpUuX1qBBg3TkyBGrNQgAAGArFgWj3NxcOTs7F3rs5s2b5hkkAACAvzOLgtGjjz6qxYsX59vg0WAwKCcnR5GRkWrcuLHVGgQAALAVi55KGz9+vHr16qU2bdqoYcOGMhgMmj9/vk6dOqXU1FStWbPG2n0CAABYnUUzRlWqVNEXX3yhHj16KCUlRVWqVNGVK1f0+OOPa8OGDapRo4a1+wQAALA6i2aMLly4IG9vb40dO7bAsaysLP36669q2LBhcfcGAABgUxbNGLVu3VoxMTGFHjtw4ID69+9frE0BAADYQ5EzRpMnT1ZCQoIkyWg06q233pKHh0eBulOnTumBBx6wXocAAAA2UuSMUYsWLZSRkaGMjAxJ0vXr182/vv3PjRs3VKdOHTZ4BAAA94UiZ4xat26t1q1bS5L69u2rqVOnssgaAADc1yxafL1y5Upr9wEAAGB3FgWjzMxMLVmyRDt27ND169eVl5dXoGbr1q3F3hwAAIAtWRSMpk2bpi+//FKPP/64fHx85OBg0cNsAAAAfysWBaMtW7Zo/Pjx6tOnj7X7AQAAsBuLpn5KlSql6tWrW7sXAAAAu7IoGLVr107r1q2zdi8AAAB2ZdGtNH9/fy1dulSdOnVS/fr15erqWqBm0qRJxd4cAACALVkUjNasWSMPDw9lZGToxx9/LHDcYDAQjAAAwN+eRcFo27ZtVmtg0qRJ+u233wrsldS1a1cdOnSoQH3btm21YMEC86/j4+P11ltvae/evZKkli1bavz48fLy8sr3OUvrAABAyWVRMLKWqKgoRUVFKSQkJN+40WhUXFycQkNDFRYWlu+Yn5+f+efk5GT1799f2dnZGjJkiHJzc7V8+XIdO3ZMUVFRKl269F3VAQCAkq3IYDRixIi7OtG7775rcW1ubq6WLFmiRYsWFXr83LlzyszMVOvWrRUeHl7keVasWKFLly5p06ZN5teVNGjQQAMHDtSGDRvUvXv3u6oDAAAlW5FPpf3xhbF/9o+lsrKy9OSTT2rhwoUKDw+Xj49PgZqTJ09K0p++my06OlohISH56po2baqAgABFR0ffdR0AACjZipwxstb70bKyspSenq65c+eqffv2atWqVYGaEydOSPq/YJSZmakyZcrkq0lJSVF8fLzatm1b4POBgYHavn37XdUBAADY/N0e7u7u2rx5s9q3b19kzYkTJ+Tm5qbp06crODhYwcHBCg0NzTe7c/nyZUkqdMbJ29tb6enpSktLs7gOAADA5ouvHRwc/vRdaydPnlRGRobS0tI0c+ZMpaamKjIyUmPGjFFOTo46d+5svn1X2J5Kzs7Okm7NNFla5+Hh8Ze+FwAA+Puz61NpRenevbvy8vLUu3dv81iHDh3UsWNHzZo1S506dVJeXt6fnsfBwcHiOgAAgHsyGPXq1avAmIuLi8LDw7Vo0SKdPHlSbm5ukm6tWfqj22Nubm4W1wEAAPytpkpub8aYmZkpX19fSVJiYmKBuoSEBHl6eqpMmTIW1wEAANzVjNHtdT+F3Z66HUD+qsuXL2vQoEFq166dRo0ale/Y6dOnJd16d5unp6f8/f115MiRAuc4evSogoKCJMniOgAAAIuC0alTp/TSSy/p6NGjBY4ZjUYZDAbFxMQUS0M+Pj5KS0tTVFSUBgwYIHd3d0nSxYsXtX79ejVp0kTe3t6SpLCwMEVGRiouLs78aP+uXbt0+vRpDR482HxOS+sAAEDJZlEwmjJlihISEvTyyy/Lz89PBoPBqk1NnjxZI0eOVM+ePdWtWzdlZGRo9erVKlWqlKZMmWKuGzp0qDZu3KgBAwZo0KBBysrK0rJlyxQYGJhvx2xL6wAAQMlmUTA6ePCgZsyYoXbt2lm7H0lSaGioFi9erKVLl2r27NlycXFRSEiIxowZk2/3ai8vL61atUrTp0/XggUL5OLiotDQUEVEROR7/5mldQAAoGSzKBiVL19eLi4uVmlg27ZthY6HhoYqNDT0Tz9fvXp1vf/++8VWBwAASi6LnkobOHCgFi1apCtXrli7HwAAALspcsaoU6dO+X4dFxenFi1ayNfXt8DskcFg0BdffGGdDgEAAGykyGAUGBiYb5E1j7UDAID7XZHBaMaMGRaf5PaLWgEAAP7OLFpjVLduXR08eLDQYz/99JOeeOKJYm0KAADAHoqcMZo3b57S09Ml3drE8YMPPlCFChUK1B0+fLjQN9cDAAD83RQZjPz8/LRkyRJJtxZX//TTTwX2/HF0dJSHh4emTp1q1SYBAABsochg1K1bN3Xr1k2S1KpVKy1evFh169a1WWMAAAC2ZtEGj0VtwggAAHA/ueM+RnPmzFHt2rUL7Gn0R+xjBAAA7gdFBqOgoCDzouo/7mkEAABwPyoyGE2fPt3889ChQ/O9vBUAAOB+ZNEaow4dOsjPz0/NmzdXy5Yt1aRJE6u9VBYAAMBeLApGUVFR2rVrl/773//qs88+k4ODgx555BG1aNFCLVq0UNWqVa3dJwAAgNVZFIzq1aunevXqafjw4bp+/br27NmjH374QWvXrtX06dNVpUoVffPNN9buFQAAwKoseiXIbbm5uTpx4oROnz6t8+fP68qVKzIajbp586a1+gMAALAZi2aMFi1apJ9++kkHDhzQjRs3VLVqVYWEhOiVV15RSEiIKlWqZO0+AQAArM7iYCRJDz/8sIYMGaJWrVqx+BoAANx3LApGGzZs0J49e7R371699tprioiIUFBQkB555BE1btxYjRo1kru7u7V7BQAAsCqLglGdOnVUp04d9e/fX5IUGxurffv2aefOnVq+fLkcHR11+PBhqzYKAABgbRYFo9uysrK0f/9+7d69W3v27NHhw4fl7u6uxx57zFr9AQAA2IzFa4z27NmjAwcOKCcnR3Xr1lWzZs00btw4BQcHy9HR0dp9AgAAWJ1FwWjlypX6xz/+oWnTpqlZs2YqX768tfsCAACwOYuC0e7du3mJLAAAuO9ZtMEjoQgAAJQEd7XzNQAAwP2MYAQAAGBCMAIAADCxeB+jU6dOKTc3V7Vq1VJGRoZmz56tixcvKiwsTF26dLFmjwAAADZh0YzRli1b1KlTJ61fv16SNGHCBK1bt06ZmZmaPHmyVq1aZdUmAQAAbMGiYLRkyRK1b99eY8eOVUJCgr799luNHDlSkZGRev755wlGAADgvmBRMIqLi1PXrl1VqlQpbd++XUajUW3btpUkNWzYUBcuXLBqkwAAALZgUTDy8PBQSkqKJOm7776Tv7+/qlWrJunW2iN2wgYAAPcDixZft2jRQrNmzdIPP/yg7du3a+TIkZKkjz76SO+8847+9a9/WbVJAAAAW7BoxmjSpElq2rSpfv75Z3Xt2lXDhg2TJH322WcKDQ3V2LFjrdokAACALVg0Y7Rz50698MIL8vLyyje+ceNGOTiwFRIAALg/WJRqJk+erH379hX8MKEIAADcRyxKNhUqVFBycrK1ewEAALAri26lderUSW+88YZ27NihGjVqFHgKzWAwaMCAAdboDwAAwGYsCkZz586VdOtR/e+++67AcYIRAAC4H1gUjGJjY63dBwAAgN1Z/BJZSbpx44YOHjyoxMRE/fOf/1RaWpr8/f2t1RsAAIBNWRyMPvjgA73zzjtKT0+XwWDQZ599pnnz5ikjI0NLly6Vh4eHNfsEAACwOoueSlu1apXmzJmjQYMGKSoqSkajUZLUr18/nT59WvPmzbNmjwAAADZhUTD66KOPNHLkSD377LN6+OGHzePNmjXTmDFjtGXLFqs1CAAAYCsWBaPLly+rYcOGhR7z9/fXtWvXirElAAAA+7AoGFWtWlXbtm0r9Nju3btVtWrVYm0KAADAHixafD18+HCNGzdOaWlpatGihQwGgw4dOqTNmzfrgw8+0GuvvWbtPgEAAKzOomDUsWNH5eTkaO7cudq4caMkaerUqSpXrpzGjx+vLl26WLVJAAAAW7D4cf0nn3xSnTt31unTp3Xt2jV5eHioevXqcnR0tGZ/AAAANnNXGzxmZGTIxcVFlSpVknRrUfZtvr6+xdsZAACAjVkUjA4dOqSIiAidOXOmwDGj0SiDwaCYmJji7g0AAMCmLApGkydP1s2bN/X666+rXLlyVm4JAADAPiwKRqdPn9acOXPUunVra/cDAABgNxbtYxQYGJhvPREAAMD9yKIZo2nTpmnUqFFKSUlRYGCgXF1dC9Q0bty42JsDAACwJYuC0alTp3Tp0iXNnz+/0OMsvgYAAPcDi4LRW2+9paCgIA0fPlwVKlSwdk8AAAB2YVEwunLlil5//XU99thj1u4HAADAbixafB0cHMytMgAAcN+zaMaod+/emjRpks6dO6d69erJzc2tQE1YWFixNwcAAGBLFgWjUaNGSZLWrFlT6HEWXwMAgPuBRcFo69at1u4DAADA7ixaY+Tn5yc/Pz/5+vrq+vXrSkxMVE5Ojnncz8/vf25g0qRJ6tu3b4Hx+Ph4jRo1SiEhIQoJCVFERISSkpKsXgcAAEoui2aMJOmzzz7T3Llz84WJ8uXLa9SoUerZs+f/dPGoqChFRUUpJCQk33hycrL69++v7OxsDRkyRLm5uVq+fLmOHTumqKgolS5d2ip1AACgZLMoGH355ZeaNGmSOnTooPbt26tChQpKTEzUV199pddee00eHh7q0KGDxRfNzc3VkiVLtGjRokKPr1ixQpcuXdKmTZtUo0YNSVKDBg00cOBAbdiwQd27d7dKHQAAKNksupW2dOlS9ezZ0/wi2QYNGig0NFRvv/22evbsqWXLlll8waysLD355JNauHChwsPD5ePjU6AmOjpaISEh5hAjSU2bNlVAQICio6OtVgcAAEo2i4LRb7/9VuTj+KGhoTp16pTFF8zKylJ6errmzp2rt956S6VK5Z+0SklJUXx8vAIDAwt8NjAwUIcPH7ZKHQAAgEXByNfXV8ePHy/02LFjx1SuXDmLL+ju7q7Nmzerffv2hR6/fPmyJBU6k+Tt7a309HSlpaUVex0AAIBFwahLly6aP3++oqKilJqaKklKTU3Vp59+qoULF+pf//qX5Rd0cCgwS/R7GRkZkiRXV9cCx5ydnSVJmZmZxV4HAABg0eLrQYMGKTY2Vq+++qomT54sR0dH5ebmymg0KiwsTM8991yxNZSXl/enNQ4ODsVeBwAAYFEwKlWqlN5++22NGDFC+/btU2pqqsqWLatGjRrpoYceKtaGbr9uJCsrq8Cx22Nubm7FXgcAAGBRMJowYYKeffZZ1a5dW7Vr18537NSpU5o1a5aWLFlSLA35+vpKkhITEwscS0hIkKenp8qUKVPsdQAAAEUGo6NHj8poNEqSNmzYoCZNmpjXF/3ed999p127dhVbQ56envL399eRI0cK7SkoKMgqdQAAAEUGow8++EBffvmlDAaDpFuzRn90Ozh17ty5WJsKCwtTZGSk4uLizHsP7dq1S6dPn9bgwYOtVgcAAEo2g/F2uvmDtLQ0xcTEyGg0qn///po8ebJq1qyZr8bBwUGenp6qVauWOUDdrVatWsnPz08rV640jyUlJaljx45ydHTUoEGDlJWVpWXLlqlKlSr65JNPzK/wKO66onTp0kXr16//n77f/aDaeDbBLGnOzLB8J3sA+Lu509/rRc4YeXh4mN9hFhkZqcDAQJstUvby8tKqVas0ffp0LViwQC4uLgoNDVVERES+EFPcdQAAoGQrcsboj3744Qe5uLioUaNGSkhI0KRJk3Tx4kWFhYVp5MiR9/Uj78wYMWNU0jBjBOB+dqe/1y1KM5988omGDBmi//73v5KkcePG6ddff1VQUJA++OADLV68uPi6BQAAsBOLgtHKlSs1YMAAvfDCC4qPj9fevXv1/PPPa/r06XrppZf0+eefW7tPAAAAq7MoGJ09e1atWrWSdOvxfIPBoNDQUElSzZo1deXKFet1CAAAYCMWBaMKFSro4sWLkqRvv/1WNWvWVKVKlSRJhw4dKvQFrQAAAH83FgWjdu3a6c0339SQIUO0d+9ede3aVZI0Y8YMzZ8/X+Hh4VZtEgAAwBYseiXIuHHjVK5cOf3888968cUX1a9fP0nSiRMnNGLECI0YMcKqTQIAANiCRcHIwcFBw4YNKzC+fPnyYm8IAADAXiwKRhs2bPjTmuJ+LQgAAICtWRSMxo8fX+QxZ2dnlSlThmAEAAD+9iwKRvv27SswlpmZqX379untt9/WrFmzir0xAAAAW7MoGHl4eBQ61rFjR12/fl1vvPFGiX5lBgAAuD/85Rec+fn56eTJk8XRCwAAgF1ZNGN07dq1AmN5eXlKSEjQkiVLVKVKleLuCwAAwOYsCkaPPvqoDAZDocdKly6t+fPnF2tTAAAA9mBRMHrzzTcLBCODwSB3d3c1adKk0DVIAAAAfzcWBaMuXbpYuw8AAAC7u+Pia6PRqC+++ELff/99gfGBAwfq888/t2pzAAAAtlRkMLp586ZeeOEFvfzyy9q9e3e+Y1euXFFCQoImTpyosWPHKi8vz+qNAgAAWFuRwWjt2rXasWOH5syZo4iIiHzHvL29FR0drRkzZuibb77RunXrrN4oAACAtRUZjD777DMNHjxY7du3L/LD4eHh6tWrlz755BOrNAcAAGBLRQaj3377TY0bN/7TEzRr1kxnzpwpzp4AAADsoshg5OLioszMzD89gdFolJOTU7E2BQAAYA9FBqO6detq27Ztf3qCrVu3qlq1asXZEwAAgF0UGYx69eqlzz//XFFRUUV++LPPPtO6devY5wgAANwXitzgMTQ0VD169NCrr76q1atXq0WLFvL19VVeXp4uXryonTt3KjY2Vk888YS6d+9uy54BAACs4o47X0+ZMkUNGjTQ8uXLtXTp0nzHHn74YU2fPl2dO3e2Zn8AAAA286evBOncubM6d+6sxMREXbp0SY6OjqpcubIeeOABW/QHAABgMxa9K026tamjt7e3NXsBAACwqzu+Kw0AAKAkIRgBAACYEIwAAABMCEYAAAAmBCMAAAATghEAAIAJwQgAAMCEYAQAAGBCMAIAADAhGAEAAJgQjAAAAEwIRgAAACYEIwAAABOCEQAAgAnBCAAAwIRgBAAAYEIwAgAAMCEYAQAAmBCMAAAATAhGAAAAJgQjAAAAE4IRAACACcEIAADAhGAEAABgQjACAAAwIRgBAACYEIwAAABMCEYAAAAmBCMAAAATghEAAIAJwQgAAMCEYAQAAGBCMAIAADAhGAEAAJiUsncDd9K1a1cdOnSowHjbtm21YMECSVJ8fLzeeust7d27V5LUsmVLjR8/Xl5eXvk+Y2kdAAAoue7ZYGQ0GhUXF6fQ0FCFhYXlO+bn5ydJSk5OVv/+/ZWdna0hQ4YoNzdXy5cv17FjxxQVFaXSpUvfVR0AACjZ7tlgdO7cOWVmZqp169YKDw8vtGbFihW6dOmSNm3apBo1akiSGjRooIEDB2rDhg3q3r37XdUBAICS7Z5dY3Ty5ElJMgeZwkRHRyskJCRfTdOmTRUQEKDo6Oi7rgMAACXbPRuMTpw4Ien/glFmZma+4ykpKYqPj1dgYGCBzwYGBurw4cN3VQcAAHBPByM3NzdNnz5dwcHBCg4OVmhoqHmG5/Lly5IkHx+fAp/19vZWenq60tLSLK4DAAC4Z9cYnTx5UhkZGUpLS9PMmTOVmpqqyMhIjRkzRjk5OapataokydXVtcBnnZ2dJd2aZcrIyLCozsPDw1pfBQAA/E3cs8Goe/fuysvLU+/evc1jHTp0UMeOHTVr1izz4/p34uDgoLy8PIvqAAAA7tlg1KtXrwJjLi4uCg8P16JFi+Tm5iZJysrKKlB3e8zNzc3iOgAAgL/dVMntDRmvX78uSUpMTCxQk5CQIE9PT5UpU0a+vr4W1QEAANyTwejy5cvq0KGDFi1aVODY6dOnJUn+/v7y9/fXkSNHCtQcPXpUQUFBkiRPT0+L6gAAAO7JYOTj46O0tDRFRUUpPT3dPH7x4kWtX79eTZo0kbe3t8LCwvTjjz8qLi7OXLNr1y6dPn1a7du3N49ZWgcAAEq2e3aN0eTJkzVy5Ej17NlT3bp1U0ZGhlavXq1SpUppypQpkqShQ4dq48aNGjBggAYNGqSsrCwtW7ZMgYGB+XbLtrQOAACUbPfkjJEkhYaGavHixXJ1ddXs2bP14YcfqmHDhvr444/Nmz56eXlp1apVqlOnjhYsWKCPPvpIoaGhWrZsWb73n1laBwAASrZ7dsZIuhWOQkND71hTvXp1vf/++396LkvrAABAyXXPzhgBAADYGsEIAADAhGAEAABgQjACAAAwIRgBAACYEIwAAABMCEYAAAAmBCMAAAATghEAAIAJwQgAAMCEYAQAAGBCMAIAADAhGAEAAJgQjAAAAEwIRgAAACYEIwAAABOCEQAAgAnBCAAAwIRgBAAAYEIwAgBIOTfs3QHsgT/3AkrZuwEAwD3AyUWaWtbeXcDWpqbYu4N7DjNGAAAAJgQjAAAAE4IRAACACcEIAADAhGAEAABgQjACAAAwIRgBAACYEIwAAABMCEYAAAAmBCMAAAATghEAAIAJwQgAAMCEYAQAAGBCMAIAADAhGAEAAJgQjAAAAEwIRgAAACYEIwAAABOCEQAAgEkpezcAALA/Y84NGaam2LsN2Jgx54YMTi72buOeQjACAMjg5KJq46Pt3QZs7MyMDvZu4Z7DrTQAAAATghEAAIAJwQgAAMCEYAQAAGBCMAIAADAhGAEAAJgQjAAAAEwIRgAAACYEIwAAABOCEQAAgAnBCAAAwIRgBAAAYEIwAgAAMCEYAQAAmBCMAAAATAhGAAAAJgQjAAAAE4IRAACACcEIAADAhGAEAABgUqKCUXx8vEaNGqWQkBCFhIQoIiJCSUlJ9m4LAADcI0rZuwFbSU5OVv/+/ZWdna0hQ4YoNzdXy5cv17FjxxQVFaXSpUvbu0UAAGBnJSYYrVixQpcuXdKmTZtUo0YNSVKDBg00cOBAbdiwQd27d7dzhwAAwN5KzK206OhohYSEmEORJDVt2lQBAQGKjo62Y2cAAOBeUSKCUUpKiuLj4xUYGFjgWGBgoA4fPmyHrgAAwL2mRASjy5cvS5J8fHwKHPP29lZ6errS0tJs3RYAALjHlIhglJGRIUlydXUtcMzZ2VmSlJmZadOeAADAvadELL7Oy8v70xoHh6Iz4vnz59WlS5fibOlv5f/ZuwHYXJcuy+3dAuyAf9dLnpL67/r58+eLPFYigpGbm5skKSsrq8Cx22O3awqzZ88e6zQGAADuKSXiVpqvr68kKTExscCxhIQEeXp6qkyZMrZuCwAA3GNKRDDy9PSUv7+/jhw5UuDY0aNHFRQUZIeuAADAvaZEBCNJCgsL048//qi4uDjz2K5du3T69Gm1b9/ejp0BAIB7hcFoNBrt3YQtJCUlqWPHjnJ0dNSgQYOUlZWlZcuWqUqVKvrkk094JQgAACg5wUiSTp06penTp+unn36Si4uLWrRooYiICHl5edm7NQAAcA8oUcEIAADgTkrMGiMAAIA/QzACAAAwIRgBAACYEIwAAPgDlt+WXAQjwEKWvHMPwP3h5s2b9m4BdsJTaUAhUlNTlZiYqKSkJLm7u6tu3br2bgmADSxfvlzHjx9XVlaW+vbtq0aNGtm7JdhYiXiJLHA34uLiNH78eJ0+fVrp6emSpA4dOmjo0KGqXbu2HByYaAXuR8OGDdOhQ4fk6empnJwcxcXFqVGjRjIajTIYDPZuDzbCjBHwO2fPnlWPHj0UEBCgVq1aqVq1atq2bZs2b96sgIAATZo0SQ0aNLB3mwCK2bRp0/Tdd99p7NixatmypSTJ3d1dknT+/Hn5+fnZsTvYEjNGgEleXp4++ugjlSlTRhEREWrYsKEkKSQkRP/85z/12muvae7cuVq0aJHc3d35v0jgPnHt2jXt2bNHoaGhateunRwdHXXhwgWtWrVKW7du1YkTJ9S1a1cNGDBA/v7+9m4XVsY9AcAkNzdXhw8fVpUqVcyhKC8vT56enmrVqpVGjx6t3bt3a/Xq1ZJEKALuA0ajUVlZWbp27Zo8PT117tw5bd68Wb1799a8efOUmZmp4OBgrVq1St98842924UNEIwAk7y8POXk5Cg1NVXZ2dmS/i/8uLi4qGXLlqpQoYIOHTrEEyvAfcJgMMjHx0eNGjXS4sWL1blzZz3//PMqV66cxowZo+joaC1atEgNGzbUli1blJuby6P89zlupaFEy8jIUEZGhjw8POTq6qqgoCCtX79eu3fv1j//+U85ODgoNzdXjo6OqlSpkh544AHdvHlTjo6O9m4dwF9w/fp1paSkyNnZWQ888IAWLFigefPm6fLly6pXr55atmwpX19fSdLVq1d148YN/b//9//4d78EIBihxIqLi9Mbb7yhM2fOqHLlynryySc1aNAg/fLLL5o1a5bc3d0VFBSk0qVLy2g06ueff1ZKSoratm3LbTTgb+zf//639u/frxMnTsjf318tW7bUuHHj9OKLL5rXDqampkqSLl68qC+++EJnz57ViBEj7Nw5bIGn0lAinT17Vt27d1e5cuUUEBCggwcPKi0tTb1791a9evU0f/58GY1GPfXUU2rTpo0OHDigTZs26cSJE1qzZo0efPBBe38FAP+D4cOH6+DBg/rHP/6h2rVr6/Dhw9q8ebNat26t119/XV5eXoqJidHUqVPl5uam69evKzY2Vs8884yGDRtm7/ZhA8wYocTJzs7WDz/8oIceekgTJkxQnTp1lJCQoGeffVbr1q1TTk6OXnnlFb377ruaO3eu5s6dKxcXF1WuXFnLli0jFAF/U2vXrtWBAwf06quvqnnz5vLw8NBXX32lzZs3y9vbW7m5uZIkT09Pubu7KyEhQQEBAerTp486dOgg6dZaRPYyu78RjFCinD17Vh999JEOHDigmjVrqk6dOpKkihUratGiRXr++ee1YcMGubu7KzIyUvv27dO5c+dUpUoV1ahRQxUqVLDzNwDwvzpx4oS8vLzUunVrubi46Mcff9TEiRPVuXNnDRs2TAcPHtSFCxfUt29fLV++XFlZWSpVqpR5XRGhqGQgGKFESU5O1urVq+Xm5qawsDBJtx7Tz8vLU6VKlbRw4UI999xzWr58uZycnDRy5Eg7dwzgr3rnnXfUqVMnZWVlycnJSS4uLtq3b59GjBihsLAwjR07Vq6urlqzZo2OHDmiDh06yMvLS6VLlzafw2g0EopKCP6UUaI0aNBAn376qTIyMvT+++9rz549cnR0lJOTk3JycuTj46OFCxeqXr16WrhwoRYtWiSJN20Df1fR0dFasGCBTp06pSpVquj06dNaunSphg4dqrZt22rcuHHy9vaWu7u7ypcvLycnJ3MAMhgM5gcteOCi5CAYocSpX7++Pv30U2VlZemtt97STz/9JEn5wtGcOXPUtGlTtWvXThL/UQT+rjp06KDAwEB99NFH6t69u6pXr665c+cqJCREY8aMkY+Pj6RbT59duHBBtWvXlpOTk527hj0RjFAi1a9fX5GRkTp16pTefPPNAuGocuXKev/991WjRg07dwrgf3V7MXWXLl30yy+/aMeOHRo5cqT8/PwUHx+vPXv2KDMzU0ePHtXatWt1+PBhdejQQW5ubnbuHPbE4/oo0X799VcNGDBA1atX1yuvvKJGjRqZj/EuNOD+kJycrC5duig4OFizZ8/Wtm3bNGvWLP32229ycHCQk5OTnJycNGLECA0ZMkQS//6XZAQjlHi//vqrhgwZonLlymn27Nnm96QB+PsZOXKk3Nzc1L59e7Vs2dI8HhUVpVdffVXvvPOOWrVqpfT0dK1bt05Xr16Vj4+PatWqpZCQEEk8fVbSEYwAST/99JNGjx7N5o3A31hSUpJef/117dixQ0ajUf/4xz/0zDPPqGrVqsrJyVGfPn300EMPacqUKSpbtmyh5yAUgWAEmNy4cUMuLi72bgPAXxQXF6ePPvpI3333ndLS0tS0aVNFRETohx9+0KxZs7RmzRo9/PDDhCAUimAEALjvZGVlKT09XUuWLNG2bduUkJCgLl26aNOmTWrSpInmzZvH/wihUAQjAMB97fjx4/r++++1YsUKpaWlydXVVcuWLVNQUBCzRiiAYAQAuC/98cmykydPau/evVq4cKGaNWummTNn2rE73Kt4JQgA4L70x8fta9asqQcffFBZWVlasWKFjh49qocffthO3eFexfwhAKBEyMvLk7Ozs0JCQpSYmKjz58/buyXcgwhGAIAS4fZaoh9//FF5eXlKSEiwc0e4FxGMAAAlRlJSkv7zn//I09NTzZs3t3c7uAex+BoAUKJcuHBBRqNRfn5+9m4F9yCCEQAAgAm30gAAAEwIRgAAACYEIwAAABOCEQC7+/777/X1118XeuzatWvaunVrsV4vNjZWR48eVWJioubOnfuXzxceHv6nNevXr9eKFSv+8rUAWBfBCIDdNW/eXE888UShx44dO6bdu3cX6/W2bNmiCxcuyNvbW6NHjy7WcwP4e+OVIADsbv369UpNTZWnp6d27Nih9PR0paSkaPHixYqMjNShQ4fUsmVL5eTk6N1335XRaFS/fv3UoUMH9e/fX2XLlpW/v7+OHj2qWrVq6cCBA6pXr55effVV7dixQ8uXL1d2draqV6+uCRMm6PPPP9c333yjihUr6t1339XixYs1ceJEnTlzRqVKldLUqVPl7OysCRMmyN3dXWfPntWkSZP02GOPadq0aTpz5oySkpL04osvqmXLloV+ny1btig9PV15eXlasGCB+Vh2drYmTJigpKQkpaSkaOrUqfLy8ir0WgBsj2AE4J7i7u6u+fPna+nSpdq2bZv69eunb7/9Vo899pieeuopffzxx3J0dFTfvn3VunVr5eXladCgQWrYsKH69u2rtm3bauLEiWrfvr2uX7+u+Ph4LV26VC4uLurSpYsMBoOefPJJ1a1bV15eXpKkb7/9Vu7u7vr4448VGxurWbNmadKkSUpISNCKFSt08OBBRUZGqm7duqpbt64mT56smJgYvfPOO4UGI0kqW7aslixZog0bNujjjz+Wr6+vJOnSpUsKCwtT27Zt9e233+qrr75Snz59ClyLYATYB8EIwD2lVq1akiRvb2+lpqaax5OTk3XhwgUNHTpUkpSWlqbExERJUrVq1fJ93mAwqEKFCsrJydEDDzyg8ePHy83NTSkpKcrLyytwzdOnT6thw4aSpDp16ujixYuSpOrVq8vR0VHe3t7KyspSmTJlFBMTo3HjxqlUqVLKzc0t8ns0atRIklSvXj19//335mBUtmxZbd++XVu3btWNGzfk4+NT6LUA2AdrjADc0wwGg4xGo8qVK6eqVavqww8/VGRkpDp16qSKFStK+r93YN2u/71Zs2Zpzpw5mjhxonJycmQ0Gs3nvK1q1ao6ePCgJCkmJsZ83j+e6/vvv1dubq5mz56txx9/XHfaH/fYsWOSpMOHD+cLbp9//rkCAgI0c+ZMNWzY0HyOP14LgH0wYwTgnvbggw/qxx9/1I4dOzRkyBD16dNH2dnZCg0NlbOz859+vnnz5nrqqafk7u4uHx8fXblyRXXq1NH8+fM1efJkSVKbNm20fft2Pf300zIajZo1a1ah56pXr54WLlyonj17qlKlSkpJSSnyukeOHFG/fv3k5OSkt99+2/xkXZMmTTR27Fh99913qlixIoEIuMfwShAAKGa3F5MPGDDA3q0AuEvcSgMAADBhxggAAMCEGSMAAAATghEAAIAJwQgAAMCEYAQAAGBCMAIAADAhGAEAAJj8fzbad68S6Y3PAAAAAElFTkSuQmCC\n",
      "text/plain": [
       "<Figure size 648x648 with 1 Axes>"
      ]
     },
     "metadata": {},
     "output_type": "display_data"
    }
   ],
   "source": [
    "df.groupby([\"international plan\", \"churn\"]).size().unstack().plot(kind='bar', stacked=True, figsize=(9,9),  fontsize = 18)\n",
    "plt.xticks(rotation=45)\n",
    "# plt.xlabel('Churn vs. Non-Churn', fontsize=16);\n",
    "plt.ylabel('Customers with International Plans', fontsize=16);\n",
    "plt.title('International ', fontsize=18)\n",
    "plt.tick_params(axis='both', which='major', labelsize=18)\n",
    "sns.set_style('white')"
   ]
  },
  {
   "cell_type": "code",
   "execution_count": 6,
   "metadata": {},
   "outputs": [
    {
     "data": {
      "text/plain": [
       "[Text(0.5, 1.0, 'Churned (t/f)')]"
      ]
     },
     "execution_count": 6,
     "metadata": {},
     "output_type": "execute_result"
    },
    {
     "data": {
      "image/png": "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\n",
      "text/plain": [
       "<Figure size 648x432 with 1 Axes>"
      ]
     },
     "metadata": {},
     "output_type": "display_data"
    }
   ],
   "source": [
    "sns.set(rc={'figure.figsize':(9,6)})\n",
    "sns.countplot(x ='churn', data = df, ).set(title='Churned (t/f)')"
   ]
  },
  {
   "cell_type": "code",
   "execution_count": null,
   "metadata": {},
   "outputs": [],
   "source": []
  },
  {
   "cell_type": "code",
   "execution_count": 7,
   "metadata": {},
   "outputs": [
    {
     "name": "stdout",
     "output_type": "stream",
     "text": [
      "<class 'pandas.core.frame.DataFrame'>\n",
      "Int64Index: 49752 entries, 0 to 51043\n",
      "Data columns (total 58 columns):\n",
      " #   Column                     Non-Null Count  Dtype  \n",
      "---  ------                     --------------  -----  \n",
      " 0   CustomerID                 49752 non-null  int64  \n",
      " 1   Churn                      49752 non-null  object \n",
      " 2   MonthlyRevenue             49752 non-null  float64\n",
      " 3   MonthlyMinutes             49752 non-null  float64\n",
      " 4   TotalRecurringCharge       49752 non-null  float64\n",
      " 5   DirectorAssistedCalls      49752 non-null  float64\n",
      " 6   OverageMinutes             49752 non-null  float64\n",
      " 7   RoamingCalls               49752 non-null  float64\n",
      " 8   PercChangeMinutes          49752 non-null  float64\n",
      " 9   PercChangeRevenues         49752 non-null  float64\n",
      " 10  DroppedCalls               49752 non-null  float64\n",
      " 11  BlockedCalls               49752 non-null  float64\n",
      " 12  UnansweredCalls            49752 non-null  float64\n",
      " 13  CustomerCareCalls          49752 non-null  float64\n",
      " 14  ThreewayCalls              49752 non-null  float64\n",
      " 15  ReceivedCalls              49752 non-null  float64\n",
      " 16  OutboundCalls              49752 non-null  float64\n",
      " 17  InboundCalls               49752 non-null  float64\n",
      " 18  PeakCallsInOut             49752 non-null  float64\n",
      " 19  OffPeakCallsInOut          49752 non-null  float64\n",
      " 20  DroppedBlockedCalls        49752 non-null  float64\n",
      " 21  CallForwardingCalls        49752 non-null  float64\n",
      " 22  CallWaitingCalls           49752 non-null  float64\n",
      " 23  MonthsInService            49752 non-null  int64  \n",
      " 24  UniqueSubs                 49752 non-null  int64  \n",
      " 25  ActiveSubs                 49752 non-null  int64  \n",
      " 26  ServiceArea                49752 non-null  object \n",
      " 27  Handsets                   49752 non-null  float64\n",
      " 28  HandsetModels              49752 non-null  float64\n",
      " 29  CurrentEquipmentDays       49752 non-null  float64\n",
      " 30  AgeHH1                     49752 non-null  float64\n",
      " 31  AgeHH2                     49752 non-null  float64\n",
      " 32  ChildrenInHH               49752 non-null  object \n",
      " 33  HandsetRefurbished         49752 non-null  object \n",
      " 34  HandsetWebCapable          49752 non-null  object \n",
      " 35  TruckOwner                 49752 non-null  object \n",
      " 36  RVOwner                    49752 non-null  object \n",
      " 37  Homeownership              49752 non-null  object \n",
      " 38  BuysViaMailOrder           49752 non-null  object \n",
      " 39  RespondsToMailOffers       49752 non-null  object \n",
      " 40  OptOutMailings             49752 non-null  object \n",
      " 41  NonUSTravel                49752 non-null  object \n",
      " 42  OwnsComputer               49752 non-null  object \n",
      " 43  HasCreditCard              49752 non-null  object \n",
      " 44  RetentionCalls             49752 non-null  int64  \n",
      " 45  RetentionOffersAccepted    49752 non-null  int64  \n",
      " 46  NewCellphoneUser           49752 non-null  object \n",
      " 47  NotNewCellphoneUser        49752 non-null  object \n",
      " 48  ReferralsMadeBySubscriber  49752 non-null  int64  \n",
      " 49  IncomeGroup                49752 non-null  int64  \n",
      " 50  OwnsMotorcycle             49752 non-null  object \n",
      " 51  AdjustmentsToCreditRating  49752 non-null  int64  \n",
      " 52  HandsetPrice               49752 non-null  object \n",
      " 53  MadeCallToRetentionTeam    49752 non-null  object \n",
      " 54  CreditRating               49752 non-null  object \n",
      " 55  PrizmCode                  49752 non-null  object \n",
      " 56  Occupation                 49752 non-null  object \n",
      " 57  MaritalStatus              49752 non-null  object \n",
      "dtypes: float64(26), int64(9), object(23)\n",
      "memory usage: 22.4+ MB\n"
     ]
    }
   ],
   "source": [
    "orig_data2 = pd.read_csv('data/cell2celltrain.csv').dropna()\n",
    "cell2celldf = orig_data2.copy()\n",
    "cell2celldf.info()"
   ]
  },
  {
   "cell_type": "code",
   "execution_count": 8,
   "metadata": {},
   "outputs": [],
   "source": [
    "# orig_data2 = pd.read_csv('data/cell2celltrain.csv', usecols = ['Churn', 'MonthlyRevenue', 'MonthlyMinutes', 'TotalRecurringCharge', 'OverageMinutes', 'CustomerCareCalls', 'MonthsInService', 'ServiceArea', 'NewCellphoneUser', 'NotNewCellphoneUser', 'MadeCallToRetentionTeam']).dropna()\n",
    "# cell2celldf = orig_data2.copy()\n",
    "# cell2celldf.info()"
   ]
  },
  {
   "cell_type": "code",
   "execution_count": 9,
   "metadata": {},
   "outputs": [
    {
     "data": {
      "text/html": [
       "<div>\n",
       "<style scoped>\n",
       "    .dataframe tbody tr th:only-of-type {\n",
       "        vertical-align: middle;\n",
       "    }\n",
       "\n",
       "    .dataframe tbody tr th {\n",
       "        vertical-align: top;\n",
       "    }\n",
       "\n",
       "    .dataframe thead th {\n",
       "        text-align: right;\n",
       "    }\n",
       "</style>\n",
       "<table border=\"1\" class=\"dataframe\">\n",
       "  <thead>\n",
       "    <tr style=\"text-align: right;\">\n",
       "      <th></th>\n",
       "      <th>CustomerID</th>\n",
       "      <th>Churn</th>\n",
       "      <th>MonthlyRevenue</th>\n",
       "      <th>MonthlyMinutes</th>\n",
       "      <th>TotalRecurringCharge</th>\n",
       "      <th>DirectorAssistedCalls</th>\n",
       "      <th>OverageMinutes</th>\n",
       "      <th>RoamingCalls</th>\n",
       "      <th>PercChangeMinutes</th>\n",
       "      <th>PercChangeRevenues</th>\n",
       "      <th>...</th>\n",
       "      <th>IncomeGroup</th>\n",
       "      <th>OwnsMotorcycle</th>\n",
       "      <th>AdjustmentsToCreditRating</th>\n",
       "      <th>HandsetPrice</th>\n",
       "      <th>MadeCallToRetentionTeam</th>\n",
       "      <th>CreditRating</th>\n",
       "      <th>PrizmCode</th>\n",
       "      <th>Occupation</th>\n",
       "      <th>MaritalStatus</th>\n",
       "      <th>Weeks in Service</th>\n",
       "    </tr>\n",
       "  </thead>\n",
       "  <tbody>\n",
       "    <tr>\n",
       "      <th>0</th>\n",
       "      <td>3000002</td>\n",
       "      <td>Yes</td>\n",
       "      <td>24.00</td>\n",
       "      <td>219.0</td>\n",
       "      <td>22.0</td>\n",
       "      <td>0.25</td>\n",
       "      <td>0.0</td>\n",
       "      <td>0.0</td>\n",
       "      <td>-157.0</td>\n",
       "      <td>-19.0</td>\n",
       "      <td>...</td>\n",
       "      <td>4</td>\n",
       "      <td>No</td>\n",
       "      <td>0</td>\n",
       "      <td>30</td>\n",
       "      <td>Yes</td>\n",
       "      <td>1-Highest</td>\n",
       "      <td>Suburban</td>\n",
       "      <td>Professional</td>\n",
       "      <td>No</td>\n",
       "      <td>244</td>\n",
       "    </tr>\n",
       "    <tr>\n",
       "      <th>1</th>\n",
       "      <td>3000010</td>\n",
       "      <td>Yes</td>\n",
       "      <td>16.99</td>\n",
       "      <td>10.0</td>\n",
       "      <td>17.0</td>\n",
       "      <td>0.00</td>\n",
       "      <td>0.0</td>\n",
       "      <td>0.0</td>\n",
       "      <td>-4.0</td>\n",
       "      <td>0.0</td>\n",
       "      <td>...</td>\n",
       "      <td>5</td>\n",
       "      <td>No</td>\n",
       "      <td>0</td>\n",
       "      <td>30</td>\n",
       "      <td>No</td>\n",
       "      <td>4-Medium</td>\n",
       "      <td>Suburban</td>\n",
       "      <td>Professional</td>\n",
       "      <td>Yes</td>\n",
       "      <td>232</td>\n",
       "    </tr>\n",
       "    <tr>\n",
       "      <th>2</th>\n",
       "      <td>3000014</td>\n",
       "      <td>No</td>\n",
       "      <td>38.00</td>\n",
       "      <td>8.0</td>\n",
       "      <td>38.0</td>\n",
       "      <td>0.00</td>\n",
       "      <td>0.0</td>\n",
       "      <td>0.0</td>\n",
       "      <td>-2.0</td>\n",
       "      <td>0.0</td>\n",
       "      <td>...</td>\n",
       "      <td>6</td>\n",
       "      <td>No</td>\n",
       "      <td>0</td>\n",
       "      <td>Unknown</td>\n",
       "      <td>No</td>\n",
       "      <td>3-Good</td>\n",
       "      <td>Town</td>\n",
       "      <td>Crafts</td>\n",
       "      <td>Yes</td>\n",
       "      <td>240</td>\n",
       "    </tr>\n",
       "    <tr>\n",
       "      <th>3</th>\n",
       "      <td>3000022</td>\n",
       "      <td>No</td>\n",
       "      <td>82.28</td>\n",
       "      <td>1312.0</td>\n",
       "      <td>75.0</td>\n",
       "      <td>1.24</td>\n",
       "      <td>0.0</td>\n",
       "      <td>0.0</td>\n",
       "      <td>157.0</td>\n",
       "      <td>8.1</td>\n",
       "      <td>...</td>\n",
       "      <td>6</td>\n",
       "      <td>No</td>\n",
       "      <td>0</td>\n",
       "      <td>10</td>\n",
       "      <td>No</td>\n",
       "      <td>4-Medium</td>\n",
       "      <td>Other</td>\n",
       "      <td>Other</td>\n",
       "      <td>No</td>\n",
       "      <td>236</td>\n",
       "    </tr>\n",
       "    <tr>\n",
       "      <th>4</th>\n",
       "      <td>3000026</td>\n",
       "      <td>Yes</td>\n",
       "      <td>17.14</td>\n",
       "      <td>0.0</td>\n",
       "      <td>17.0</td>\n",
       "      <td>0.00</td>\n",
       "      <td>0.0</td>\n",
       "      <td>0.0</td>\n",
       "      <td>0.0</td>\n",
       "      <td>-0.2</td>\n",
       "      <td>...</td>\n",
       "      <td>9</td>\n",
       "      <td>No</td>\n",
       "      <td>1</td>\n",
       "      <td>10</td>\n",
       "      <td>No</td>\n",
       "      <td>1-Highest</td>\n",
       "      <td>Other</td>\n",
       "      <td>Professional</td>\n",
       "      <td>Yes</td>\n",
       "      <td>212</td>\n",
       "    </tr>\n",
       "  </tbody>\n",
       "</table>\n",
       "<p>5 rows × 59 columns</p>\n",
       "</div>"
      ],
      "text/plain": [
       "   CustomerID Churn  MonthlyRevenue  MonthlyMinutes  TotalRecurringCharge  \\\n",
       "0     3000002   Yes           24.00           219.0                  22.0   \n",
       "1     3000010   Yes           16.99            10.0                  17.0   \n",
       "2     3000014    No           38.00             8.0                  38.0   \n",
       "3     3000022    No           82.28          1312.0                  75.0   \n",
       "4     3000026   Yes           17.14             0.0                  17.0   \n",
       "\n",
       "   DirectorAssistedCalls  OverageMinutes  RoamingCalls  PercChangeMinutes  \\\n",
       "0                   0.25             0.0           0.0             -157.0   \n",
       "1                   0.00             0.0           0.0               -4.0   \n",
       "2                   0.00             0.0           0.0               -2.0   \n",
       "3                   1.24             0.0           0.0              157.0   \n",
       "4                   0.00             0.0           0.0                0.0   \n",
       "\n",
       "   PercChangeRevenues  ...  IncomeGroup  OwnsMotorcycle  \\\n",
       "0               -19.0  ...            4              No   \n",
       "1                 0.0  ...            5              No   \n",
       "2                 0.0  ...            6              No   \n",
       "3                 8.1  ...            6              No   \n",
       "4                -0.2  ...            9              No   \n",
       "\n",
       "   AdjustmentsToCreditRating  HandsetPrice  MadeCallToRetentionTeam  \\\n",
       "0                          0            30                      Yes   \n",
       "1                          0            30                       No   \n",
       "2                          0       Unknown                       No   \n",
       "3                          0            10                       No   \n",
       "4                          1            10                       No   \n",
       "\n",
       "   CreditRating  PrizmCode    Occupation  MaritalStatus  Weeks in Service  \n",
       "0     1-Highest   Suburban  Professional             No               244  \n",
       "1      4-Medium   Suburban  Professional            Yes               232  \n",
       "2        3-Good       Town        Crafts            Yes               240  \n",
       "3      4-Medium      Other         Other             No               236  \n",
       "4     1-Highest      Other  Professional            Yes               212  \n",
       "\n",
       "[5 rows x 59 columns]"
      ]
     },
     "execution_count": 9,
     "metadata": {},
     "output_type": "execute_result"
    }
   ],
   "source": [
    "cell2celldf['Weeks in Service'] = cell2celldf['MonthsInService']*4\n",
    "cell2celldf.head()\n",
    "# cell2celldf['TotalRecurringCharge'].median()"
   ]
  },
  {
   "cell_type": "code",
   "execution_count": 10,
   "metadata": {},
   "outputs": [],
   "source": [
    "cell2celldf1 = cell2celldf[['Churn', 'MonthlyRevenue', 'MonthlyMinutes', 'TotalRecurringCharge', 'OverageMinutes', 'CustomerCareCalls', 'MonthsInService']]"
   ]
  },
  {
   "cell_type": "code",
   "execution_count": 11,
   "metadata": {},
   "outputs": [
    {
     "ename": "NameError",
     "evalue": "name 'palette' is not defined",
     "output_type": "error",
     "traceback": [
      "\u001b[1;31m---------------------------------------------------------------------------\u001b[0m",
      "\u001b[1;31mNameError\u001b[0m                                 Traceback (most recent call last)",
      "\u001b[1;32m<ipython-input-11-a1107e863ff5>\u001b[0m in \u001b[0;36m<module>\u001b[1;34m\u001b[0m\n\u001b[0;32m      1\u001b[0m \u001b[0msns\u001b[0m\u001b[1;33m.\u001b[0m\u001b[0mset\u001b[0m\u001b[1;33m(\u001b[0m\u001b[0mrc\u001b[0m\u001b[1;33m=\u001b[0m\u001b[1;33m{\u001b[0m\u001b[1;34m'figure.figsize'\u001b[0m\u001b[1;33m:\u001b[0m\u001b[1;33m(\u001b[0m\u001b[1;36m10\u001b[0m\u001b[1;33m,\u001b[0m\u001b[1;36m6\u001b[0m\u001b[1;33m)\u001b[0m\u001b[1;33m}\u001b[0m\u001b[1;33m)\u001b[0m\u001b[1;33m\u001b[0m\u001b[1;33m\u001b[0m\u001b[0m\n\u001b[1;32m----> 2\u001b[1;33m \u001b[0msns\u001b[0m\u001b[1;33m.\u001b[0m\u001b[0mcountplot\u001b[0m\u001b[1;33m(\u001b[0m\u001b[0mx\u001b[0m \u001b[1;33m=\u001b[0m\u001b[1;34m'Churn'\u001b[0m\u001b[1;33m,\u001b[0m \u001b[0mdata\u001b[0m \u001b[1;33m=\u001b[0m \u001b[0mcell2celldf\u001b[0m\u001b[1;33m,\u001b[0m \u001b[0mpalette\u001b[0m \u001b[1;33m=\u001b[0m \u001b[0mpalette\u001b[0m\u001b[1;33m)\u001b[0m\u001b[1;33m.\u001b[0m\u001b[0mset\u001b[0m\u001b[1;33m(\u001b[0m\u001b[0mtitle\u001b[0m\u001b[1;33m=\u001b[0m\u001b[1;34m'Churned (t/f)'\u001b[0m\u001b[1;33m)\u001b[0m\u001b[1;33m\u001b[0m\u001b[1;33m\u001b[0m\u001b[0m\n\u001b[0m",
      "\u001b[1;31mNameError\u001b[0m: name 'palette' is not defined"
     ]
    }
   ],
   "source": [
    "sns.set(rc={'figure.figsize':(10,6)})\n",
    "sns.countplot(x ='Churn', data = cell2celldf, palette = palette).set(title='Churned (t/f)')"
   ]
  },
  {
   "cell_type": "code",
   "execution_count": null,
   "metadata": {},
   "outputs": [],
   "source": [
    "# profile = ProfileReport(df, title=\"Churn Profiling Report\")\n",
    "# profile"
   ]
  },
  {
   "cell_type": "code",
   "execution_count": null,
   "metadata": {},
   "outputs": [],
   "source": [
    "# df.columns = df.columns.str.replace(' ','_')\n",
    "# df_cleaned['churn'] = df_cleaned['churn'].astype(int)\n",
    "# # df_cleaned['churn'].value_counts()\n"
   ]
  },
  {
   "cell_type": "code",
   "execution_count": null,
   "metadata": {},
   "outputs": [],
   "source": [
    "# profile2 = ProfileReport(cell2celldf, title=\"Churn Profiling Report\")\n",
    "# profile2\n"
   ]
  },
  {
   "cell_type": "code",
   "execution_count": null,
   "metadata": {},
   "outputs": [],
   "source": [
    "sns.set(rc={'figure.figsize':(20,11)})\n",
    "sns.countplot(x ='state', data = df, color=palette)\n"
   ]
  },
  {
   "cell_type": "code",
   "execution_count": null,
   "metadata": {},
   "outputs": [],
   "source": [
    "sns.histplot(binwidth=0.5, x=\"state\",  data=df, stat=\"count\", multiple=\"stack\", palette = palette)"
   ]
  },
  {
   "cell_type": "code",
   "execution_count": null,
   "metadata": {
    "scrolled": true
   },
   "outputs": [],
   "source": [
    "sns.set(rc={'figure.figsize':(10,6)})\n",
    "sns.countplot(x ='churn', data = df, palette = palette).set(title='Churned (t/f)')\n"
   ]
  },
  {
   "cell_type": "code",
   "execution_count": null,
   "metadata": {},
   "outputs": [],
   "source": [
    "from scipy.stats import norm\n",
    "\n",
    "def plotNormalDistribution(seriesName, titleName):\n",
    "  \n",
    "  mu = seriesName.mean()\n",
    "  sigma = seriesName.std()\n",
    "\n",
    "  density = pd.DataFrame()\n",
    "  density[\"x\"] = np.linspace(\n",
    "      seriesName.min(), seriesName.max(), 100\n",
    "  )\n",
    "  density[\"pdf\"] = norm.pdf(density[\"x\"], mu, sigma)\n",
    "\n",
    "  fig, ax = plt.subplots()\n",
    "  sns.histplot(seriesName, ax=ax, kde=True, stat=\"density\")\n",
    "  ax.plot(density[\"x\"], density[\"pdf\"], color=\"red\")\n",
    "  plt.title(titleName)\n",
    "  plt.show()\n",
    "accountLengthDistOfChurners = (df[df['churn'] == True]['account length'])\n",
    "accountLengthDistOfNonChurners = (df[df['churn'] == False]['account length'])\n",
    "plotNormalDistribution(accountLengthDistOfChurners, 'Normal Distribution of the account length of churners')\n",
    "\n",
    "plotNormalDistribution(accountLengthDistOfNonChurners, 'Normal Distribution of the account length of non-churners')"
   ]
  },
  {
   "cell_type": "code",
   "execution_count": null,
   "metadata": {},
   "outputs": [],
   "source": [
    "sns.histplot(binwidth=0.7, x=\"churn\", data=df, stat=\"count\", multiple=\"stack\").set(title=\"Churn by Area Code\")"
   ]
  },
  {
   "cell_type": "code",
   "execution_count": 40,
   "metadata": {},
   "outputs": [
    {
     "ename": "NameError",
     "evalue": "name 's' is not defined",
     "output_type": "error",
     "traceback": [
      "\u001b[1;31m---------------------------------------------------------------------------\u001b[0m",
      "\u001b[1;31mNameError\u001b[0m                                 Traceback (most recent call last)",
      "\u001b[1;32m<ipython-input-40-da9331ca2b46>\u001b[0m in \u001b[0;36m<module>\u001b[1;34m\u001b[0m\n\u001b[0;32m      8\u001b[0m plt.pie(circle,labels = ['Retained Customers', 'Churn'],startangle = 90,explode = (0.1,0),\n\u001b[0;32m      9\u001b[0m        wedgeprops = {'edgecolor' : 'black','linewidth': 1,'antialiased' : True})\n\u001b[1;32m---> 10\u001b[1;33m \u001b[0mplt\u001b[0m\u001b[1;33m.\u001b[0m\u001b[0mtitle\u001b[0m\u001b[1;33m(\u001b[0m\u001b[1;34m'% of Customer Churn'\u001b[0m\u001b[1;33m,\u001b[0m \u001b[0ms\u001b[0m\u001b[1;33m)\u001b[0m\u001b[1;33m\u001b[0m\u001b[1;33m\u001b[0m\u001b[0m\n\u001b[0m\u001b[0;32m     11\u001b[0m \u001b[1;33m\u001b[0m\u001b[0m\n\u001b[0;32m     12\u001b[0m \u001b[1;31m# Ploting a bar chart to get the total numbers of churned and not churned customers\u001b[0m\u001b[1;33m\u001b[0m\u001b[1;33m\u001b[0m\u001b[1;33m\u001b[0m\u001b[0m\n",
      "\u001b[1;31mNameError\u001b[0m: name 's' is not defined"
     ]
    },
    {
     "data": {
      "image/png": "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\n",
      "text/plain": [
       "<Figure size 1296x648 with 2 Axes>"
      ]
     },
     "metadata": {},
     "output_type": "display_data"
    }
   ],
   "source": [
    "# Plotting a pie chart to get the percenatage of churned customers and not churned customers.\n",
    "\n",
    "l = list(df['churn'].value_counts())\n",
    "circle = [l[0] / sum(l) * 100,l[1] / sum(l) * 100]\n",
    "\n",
    "fig = plt.subplots(nrows = 1,ncols = 2,figsize = (18,9))\n",
    "plt.subplot(1,2,1)\n",
    "plt.pie(circle,labels = ['Retained Customers', 'Churn'],startangle = 90,explode = (0.1,0),\n",
    "       wedgeprops = {'edgecolor' : 'black','linewidth': 1,'antialiased' : True})\n",
    "plt.title('% of Customer Churn', s)\n",
    "\n",
    "# Ploting a bar chart to get the total numbers of churned and not churned customers\n",
    "plt.subplot(1,2,2)\n",
    "ax = sns.countplot('churn',data = df ,palette = palette, edgecolor = 'black')\n",
    "for rect in ax.patches:\n",
    "    ax.text(rect.get_x() + rect.get_width() / 2, rect.get_height() + 2, rect.get_height(), horizontalalignment='center', fontsize = 15)\n",
    "ax.set_xticklabels(['Retained Customers', 'Customers Churned'])\n",
    "    \n",
    "plt.title('Churn Count', size = 15);\n",
    "plt.show()"
   ]
  },
  {
   "cell_type": "code",
   "execution_count": null,
   "metadata": {},
   "outputs": [],
   "source": [
    "l = list(df['churn'].value_counts())\n",
    "circle = [l[0] / sum(l) * 100,l[1] / sum(l) * 100]\n",
    "\n",
    "fig = plt.subplots(figsize = (18,15))\n",
    "plt.subplot(1,2,1)\n",
    "plt.pie(circle,labels = ['Retained Customers', 'Churn'],startangle = 90,explode = (0.1,0),colors = palette,textprops={'fontsize': 18},\n",
    "       wedgeprops = {'edgecolor' : 'black','linewidth': 1,'antialiased' : True})\n",
    "plt.title('Proportion of Customer Churn', fontsize = 18)\n"
   ]
  },
  {
   "cell_type": "code",
   "execution_count": null,
   "metadata": {},
   "outputs": [],
   "source": []
  },
  {
   "cell_type": "code",
   "execution_count": null,
   "metadata": {},
   "outputs": [],
   "source": [
    "plotNormalDistribution(df[df['churn'] == False]['total day minutes'], 'Total Minutes (Daytime) *customers who have not churned')\n"
   ]
  },
  {
   "cell_type": "code",
   "execution_count": null,
   "metadata": {},
   "outputs": [],
   "source": [
    "df['all calls'] = df['total day calls'] + df['total eve calls'] + df['total night calls']\n",
    "state_calls = df.groupby('state')['all calls'].sum().sort_values()\n",
    "print('State with the minimum amount of calls:\\n', state_calls[state_calls == state_calls[0]], sep='')\n",
    "print('State with the maximum amount of calls:\\n', state_calls[state_calls == state_calls[-1]], sep='')\n",
    "plt.xlabel('Amount of calls')\n",
    "plt.ylabel('State')\n",
    "state_calls.plot(kind='barh', x='Amount of calls', y='State', figsize=(20, 15), colormap='ocean')"
   ]
  },
  {
   "cell_type": "code",
   "execution_count": null,
   "metadata": {},
   "outputs": [],
   "source": [
    "sns.set(rc={'figure.figsize':(12,9)})\n",
    "sns.countplot(y='total intl calls', hue='international plan', data=df).set(title='International calls', xlabel = 'Number of Acccounts', ylabel = 'Number of International calls Made')\n",
    "plt.legend(title='International Plan', fontsize=16)\n",
    "plt.xlabel('Number of Accounts', fontsize=16);\n",
    "plt.ylabel('Number of International calls made', fontsize=16);\n",
    "plt.title('International Calls', fontsize=18)\n",
    "plt.tick_params(axis='both', which='major', labelsize=18)"
   ]
  },
  {
   "cell_type": "code",
   "execution_count": 43,
   "metadata": {},
   "outputs": [
    {
     "data": {
      "text/plain": [
       "(array([0, 1]), [Text(0, 0, 'Retained'), Text(0, 1, 'Churn')])"
      ]
     },
     "execution_count": 43,
     "metadata": {},
     "output_type": "execute_result"
    },
    {
     "data": {
      "image/png": "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\n",
      "text/plain": [
       "<Figure size 864x720 with 1 Axes>"
      ]
     },
     "metadata": {},
     "output_type": "display_data"
    }
   ],
   "source": [
    "sns.set_style('white')\n",
    "fig, ax = plt.subplots(figsize = (12,10))\n",
    "ax = sns.boxplot(x = df['customer service calls'], y =df['Churn'] , showfliers = False, palette = 'crest')\n",
    "ax.set_title(\"Calls to Customer Service\", fontsize = 16);\n",
    "ax.set_ylabel(\"Number of calls\", fontsize = 16)\n",
    "# ax.set_xlabel('Churn   Retained')\n",
    "plt.xticks(fontsize = 16)\n",
    "plt.yticks(fontsize = 16)\n"
   ]
  },
  {
   "cell_type": "code",
   "execution_count": 13,
   "metadata": {},
   "outputs": [
    {
     "data": {
      "image/png": "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\n",
      "text/plain": [
       "<Figure size 864x648 with 1 Axes>"
      ]
     },
     "metadata": {},
     "output_type": "display_data"
    }
   ],
   "source": [
    "\n",
    "sns.set(rc={'figure.figsize':(12,9)})\n",
    "sns.boxplot(x='churn', y='customer service calls', data=df )\n",
    "plt.xlabel('Churn vs. Non-Churn', fontsize=16);\n",
    "plt.ylabel('Number of Customer Service calls', fontsize=16);\n",
    "plt.title('Calls made to Customer Service', fontsize=18)\n",
    "plt.tick_params(axis='both', which='major', labelsize=18)\n"
   ]
  },
  {
   "cell_type": "code",
   "execution_count": null,
   "metadata": {},
   "outputs": [],
   "source": [
    "sns.heatmap(pd.crosstab(df['international plan'], df['churn']), \n",
    "             annot=True, cbar=False);"
   ]
  },
  {
   "cell_type": "code",
   "execution_count": null,
   "metadata": {},
   "outputs": [],
   "source": [
    "sns.heatmap(pd.crosstab(df['voice mail plan'], df['churn']), \n",
    "             annot=True, cbar=False);"
   ]
  },
  {
   "cell_type": "code",
   "execution_count": null,
   "metadata": {},
   "outputs": [],
   "source": [
    "sns.heatmap(df, annot=True)"
   ]
  },
  {
   "cell_type": "code",
   "execution_count": null,
   "metadata": {},
   "outputs": [],
   "source": [
    "# pipeline =Pipeline([('scalar1',StandardScaler()),\n",
    "#                      ('pca1',PCA(n_components=2)),\n",
    "#                      ('lr_classifier',LogisticRegression(random_state=0))])\n",
    "# pipeline_dt=Pipeline([('scalar2',StandardScaler()),\n",
    "#                      ('pca2',PCA(n_components=2)),\n",
    "#                      ('dt_classifier',DecisionTreeClassifier())])\n",
    "# pipeline_randomforest=Pipeline([('scalar3',StandardScaler()),\n",
    "#                      ('pca3',PCA(n_components=2)),\n",
    "#                      ('rf_classifier',RandomForestClassifier())])"
   ]
  },
  {
   "cell_type": "code",
   "execution_count": null,
   "metadata": {},
   "outputs": [],
   "source": [
    "# pipelines = [pipeline_lr, pipeline_dt, pipeline_randomforest]\n",
    "# best_accuracy=0.0\n",
    "# best_classifier=0\n",
    "# best_pipeline=\"\""
   ]
  },
  {
   "cell_type": "code",
   "execution_count": null,
   "metadata": {},
   "outputs": [],
   "source": [
    "# pipe_dict = {0: 'Logistic Regression', 1: 'Decision Tree', 2: 'RandomForest'}\n",
    "\n",
    "# for pipe in pipelines:\n",
    "#     pipe.fit(X_train, y_train)"
   ]
  },
  {
   "cell_type": "code",
   "execution_count": null,
   "metadata": {},
   "outputs": [],
   "source": [
    "# for i,model in enumerate(pipelines):\n",
    "#     print(\"{} Test Accuracy: {}\".format(pipe_dict[i],model.score(X_test,y_test)))"
   ]
  },
  {
   "cell_type": "code",
   "execution_count": null,
   "metadata": {},
   "outputs": [],
   "source": [
    "# X = df.drop('churn', axis = 1)\n",
    "# y = df['churn']\n",
    "# X_train, X_test, y_train, y_test = train_test_split(\n",
    "#     X, y, test_size=0.5, random_state=42, stratify=y)"
   ]
  },
  {
   "cell_type": "code",
   "execution_count": null,
   "metadata": {},
   "outputs": [],
   "source": [
    "# #SMOTE\n",
    "# y_train.value_counts(normalize=True)"
   ]
  },
  {
   "cell_type": "code",
   "execution_count": null,
   "metadata": {},
   "outputs": [],
   "source": [
    "# neg_log_loss = make_scorer(log_loss, greater_is_better = False, needs_proba = True)\n",
    "# base_model = LogisticRegression(random_state=42)\n",
    "# kfold_scores = np.ndarray(5)\n",
    "# kfold = StratifiedKFold()\n",
    "# for fold, (train_index, val_index) "
   ]
  },
  {
   "cell_type": "code",
   "execution_count": null,
   "metadata": {},
   "outputs": [],
   "source": []
  },
  {
   "cell_type": "code",
   "execution_count": null,
   "metadata": {},
   "outputs": [],
   "source": []
  },
  {
   "cell_type": "code",
   "execution_count": null,
   "metadata": {},
   "outputs": [],
   "source": []
  },
  {
   "cell_type": "code",
   "execution_count": null,
   "metadata": {},
   "outputs": [],
   "source": [
    "cell2celldf1.Churn.replace(('yes', 'no'), (1, 0), inplace=True)"
   ]
  },
  {
   "cell_type": "code",
   "execution_count": null,
   "metadata": {},
   "outputs": [],
   "source": [
    "#Value counts of the outside data (if imbalanced)\n",
    "print(cell2celldf1['Churn'].value_counts())\n",
    "print(cell2celldf1['Churn'].value_counts(normalize=True))"
   ]
  },
  {
   "cell_type": "code",
   "execution_count": null,
   "metadata": {},
   "outputs": [],
   "source": [
    "X = cell2celldf1.drop('Churn', axis = 1)\n",
    "y = cell2celldf1['Churn']\n",
    "X_train, X_test, y_train, y_test = train_test_split(\n",
    "    X, y, test_size=0.3, random_state=3, stratify=y)"
   ]
  },
  {
   "cell_type": "code",
   "execution_count": null,
   "metadata": {},
   "outputs": [],
   "source": [
    "knn_c2c = KNeighborsClassifier()\n",
    "knn_c2c.fit(X_train, y_train)"
   ]
  },
  {
   "cell_type": "code",
   "execution_count": null,
   "metadata": {},
   "outputs": [],
   "source": [
    "knn_score = cross_val_score(estimator=knn_c2c, X=X_train, y=y_train)\n",
    "knn_score"
   ]
  },
  {
   "cell_type": "code",
   "execution_count": null,
   "metadata": {},
   "outputs": [],
   "source": [
    "smte = SMOTE(sampling_strategy = 'auto', random_state = 3)\n",
    "\n",
    "X, y = smte.fit_resample(X, y)\n",
    "\n",
    "Counter(y)"
   ]
  },
  {
   "cell_type": "code",
   "execution_count": null,
   "metadata": {},
   "outputs": [],
   "source": [
    "X_train, X_test, y_train, y_test = train_test_split(X, y, test_size=0.25, random_state=42)"
   ]
  },
  {
   "cell_type": "code",
   "execution_count": null,
   "metadata": {},
   "outputs": [],
   "source": [
    "sns.heatmap(pd.crosstab(cell2celldf['MadeCallToRetentionTeam'], cell2celldf['Churn']), \n",
    "             annot=True, cbar=False);"
   ]
  },
  {
   "cell_type": "code",
   "execution_count": null,
   "metadata": {},
   "outputs": [],
   "source": [
    "sns.heatmap(pd.crosstab(cell2celldf['NotNewCellphoneUser'], cell2celldf['Churn']), \n",
    "             annot=True, cbar=False);"
   ]
  },
  {
   "cell_type": "code",
   "execution_count": null,
   "metadata": {},
   "outputs": [],
   "source": [
    "sns.heatmap(pd.crosstab(cell2celldf['NewCellphoneUser'], cell2celldf['Churn']), \n",
    "             annot=True, cbar=False);"
   ]
  },
  {
   "cell_type": "code",
   "execution_count": null,
   "metadata": {},
   "outputs": [],
   "source": []
  },
  {
   "cell_type": "markdown",
   "metadata": {},
   "source": [
    "# Pipeline and Grid Search (attempts)"
   ]
  },
  {
   "cell_type": "code",
   "execution_count": null,
   "metadata": {},
   "outputs": [],
   "source": [
    "grid = {\n",
    "    'n_neighbors':[9, 12, 18],\n",
    "    'metric': ['minkowski', 'manhattan'],\n",
    "    'weights':['uniform', 'distance']\n",
    "}\n",
    "gs = GridSearchCV(estimator=knn_c2c, param_grid=grid, cv=2)\n",
    "gs.fit(X_train, y_train)"
   ]
  },
  {
   "cell_type": "code",
   "execution_count": null,
   "metadata": {},
   "outputs": [],
   "source": [
    "gs.best_params_"
   ]
  },
  {
   "cell_type": "code",
   "execution_count": null,
   "metadata": {},
   "outputs": [],
   "source": [
    "gs.best_score_"
   ]
  },
  {
   "cell_type": "code",
   "execution_count": null,
   "metadata": {},
   "outputs": [],
   "source": [
    "gs.best_estimator_.score(X_test, y_test)"
   ]
  },
  {
   "cell_type": "code",
   "execution_count": null,
   "metadata": {},
   "outputs": [],
   "source": [
    "gs.cv_results_"
   ]
  },
  {
   "cell_type": "code",
   "execution_count": null,
   "metadata": {},
   "outputs": [],
   "source": [
    "pipeline =Pipeline([('scalar1',StandardScaler()),\n",
    "                     ('pca1',PCA(n_components=2)),\n",
    "                     ('lr_classifier',LogisticRegression(random_state=33))])\n",
    "pipeline_dt=Pipeline([('scalar2',StandardScaler()),\n",
    "                     ('pca2',PCA(n_components=2)),\n",
    "                     ('dt_classifier',DecisionTreeClassifier())])\n",
    "pipeline_randomforest=Pipeline([('scalar3',StandardScaler()),\n",
    "                     ('pca3',PCA(n_components=2)),\n",
    "                     ('rf_classifier',RandomForestClassifier())])"
   ]
  },
  {
   "cell_type": "code",
   "execution_count": null,
   "metadata": {},
   "outputs": [],
   "source": [
    "pipeline.fit(X_train, y_train)\n",
    "pipeline_dt.fit(X_train, y_train)\n",
    "pipeline_randomforest.fit(X_train, y_train)"
   ]
  },
  {
   "cell_type": "code",
   "execution_count": null,
   "metadata": {},
   "outputs": [],
   "source": [
    "predicted = pipeline.predict(X_test)\n",
    "print(predicted)\n",
    "predicted_dt = pipeline_dt.predict(X_test)\n",
    "print(predicted_dt)\n",
    "# predicted_rf = pipeline_randomforest.fit(X_train, y_train)\n",
    "# print(predicted_rf)"
   ]
  },
  {
   "cell_type": "code",
   "execution_count": null,
   "metadata": {},
   "outputs": [],
   "source": [
    "print(pipeline.score(X_train, y_train))\n",
    "print(pipeline_dt.score(X_train, y_train))\n",
    "# print(pipeline_randomforest(X_train, y_train))"
   ]
  },
  {
   "cell_type": "code",
   "execution_count": null,
   "metadata": {},
   "outputs": [],
   "source": []
  },
  {
   "cell_type": "code",
   "execution_count": null,
   "metadata": {},
   "outputs": [],
   "source": [
    "logreg = LogisticRegression(max_iter=10000, random_state=33)\n",
    "logreg.fit(X_train, y_train)"
   ]
  },
  {
   "cell_type": "code",
   "execution_count": null,
   "metadata": {},
   "outputs": [],
   "source": [
    "logreg_score = cross_val_score(estimator=logreg, X=X_train, y=y_train, cv=2)\n",
    "logreg_score"
   ]
  },
  {
   "cell_type": "code",
   "execution_count": null,
   "metadata": {},
   "outputs": [],
   "source": [
    "print(np.median(logreg_score))\n",
    "print(np.mean(logreg_score))\n",
    "print(logreg.score(X_test, y_test))"
   ]
  },
  {
   "cell_type": "code",
   "execution_count": null,
   "metadata": {},
   "outputs": [],
   "source": [
    "#Tried with 3-9, 6 giving the highest scores\n",
    "knn = KNeighborsClassifier(6)\n",
    "knn.fit(X_train, y_train)"
   ]
  },
  {
   "cell_type": "code",
   "execution_count": null,
   "metadata": {},
   "outputs": [],
   "source": [
    "knn_score = cross_val_score(estimator=knn, X=X_train, y=y_train, cv=2)\n",
    "print(np.mean(knn_score))\n",
    "print(np.median(knn_score))\n",
    "print(knn.score(X_test, y_test))"
   ]
  },
  {
   "cell_type": "code",
   "execution_count": null,
   "metadata": {},
   "outputs": [],
   "source": [
    "dtc = DecisionTreeClassifier(random_state=3)\n",
    "dtc.fit(X_train, y_train)"
   ]
  },
  {
   "cell_type": "code",
   "execution_count": null,
   "metadata": {},
   "outputs": [],
   "source": [
    "dtc_score = cross_val_score(estimator=dtc, X=X_train, y=y_train, cv=2)\n",
    "print(np.mean(dtc_score))\n",
    "print(np.median(dtc_score))\n",
    "print(dtc.score(X_test, y_test))"
   ]
  },
  {
   "cell_type": "code",
   "execution_count": null,
   "metadata": {},
   "outputs": [],
   "source": []
  },
  {
   "cell_type": "code",
   "execution_count": null,
   "metadata": {},
   "outputs": [],
   "source": [
    "bag = BaggingClassifier(n_estimators = 50, random_state = 3)\n",
    "bag.fit(X_train, y_train)\n"
   ]
  },
  {
   "cell_type": "code",
   "execution_count": null,
   "metadata": {},
   "outputs": [],
   "source": [
    "bag_score = cross_val_score(estimator=bag, X=X_train, y=y_train, cv = 2)\n",
    "print(np.mean(bag_score))\n",
    "print(np.median(bag_score))\n",
    "print(bag.score(X_test, y_test))"
   ]
  },
  {
   "cell_type": "code",
   "execution_count": null,
   "metadata": {},
   "outputs": [],
   "source": []
  },
  {
   "cell_type": "code",
   "execution_count": null,
   "metadata": {},
   "outputs": [],
   "source": [
    "rfc = RandomForestClassifier(max_features = 3, max_samples =.5, random_state=33 )\n",
    "rfc.fit(X_train, y_train)"
   ]
  },
  {
   "cell_type": "code",
   "execution_count": null,
   "metadata": {},
   "outputs": [],
   "source": [
    "rfc_score = cross_val_score(estimator = rfc, X=X_train, y=y_train, cv=2)\n",
    "print(np.mean(rfc_score))\n",
    "print(np.median(rfc_score))\n",
    "print(rfc.score(X_test, y_test))"
   ]
  },
  {
   "cell_type": "code",
   "execution_count": null,
   "metadata": {},
   "outputs": [],
   "source": [
    "fi = {name: score\n",
    "         for name, score\n",
    "             in zip(X_train.columns, rfc.feature_importances_)\n",
    "     }\n",
    "fi"
   ]
  },
  {
   "cell_type": "code",
   "execution_count": null,
   "metadata": {},
   "outputs": [],
   "source": []
  }
 ],
 "metadata": {
  "kernelspec": {
   "display_name": "Python (learn-env)",
   "language": "python",
   "name": "learn-env"
  },
  "language_info": {
   "codemirror_mode": {
    "name": "ipython",
    "version": 3
   },
   "file_extension": ".py",
   "mimetype": "text/x-python",
   "name": "python",
   "nbconvert_exporter": "python",
   "pygments_lexer": "ipython3",
   "version": "3.8.5"
  }
 },
 "nbformat": 4,
 "nbformat_minor": 4
}
